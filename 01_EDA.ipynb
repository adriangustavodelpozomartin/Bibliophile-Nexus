{
 "cells": [
  {
   "cell_type": "markdown",
   "metadata": {
    "id": "tPxrpxkpOBX5"
   },
   "source": [
    "---\n",
    "# 1. EDA"
   ]
  },
  {
   "cell_type": "markdown",
   "metadata": {},
   "source": [
    "<div style=\"text-align: justify;\">\n",
    "\n",
    "En esta primera etapa de nuestro proyecto, llevamos a cabo un Análisis Exploratorio de Datos (EDA) para comprender en profundidad la información contenida en nuestro dataset. En este notebook se trabaja en la limpieza y preparación de los datos, eliminando duplicados y registros con valores faltantes, lo que nos permite contar con un conjunto de datos robusto y de calidad.\n",
    "\n",
    "Decidimos filtrar el dataset para quedarnos únicamente con aquellos libros que ofrecen descripciones suficientemente detalladas –más de 50 palabras– y que han recibido un número significativo de reviews, lo que garantiza que las recomendaciones posteriores se basen en información representativa y validada socialmente. Además, hemos aplicado un proceso de detección de idioma para asegurarnos de que solo se analicen textos en inglés, lo que es crucial para mantener la consistencia en el procesamiento del lenguaje.\n",
    "\n",
    "El siguiente paso fue la normalización de las descripciones: mediante expresiones regulares limpiamos los textos de caracteres corruptos, eliminamos símbolos no deseados y estandarizamos el uso de mayúsculas y minúsculas. Esta transformación nos permitió generar una columna “clean_description” que, además de ser homogénea, facilita las etapas posteriores de análisis y modelado.\n",
    "\n",
    "Una vez preparado el dataset, exploramos diversos aspectos que nos ayudaron a entender su estructura y distribución. Analizamos el campo del género, observamos las principales estadísticas del dataset y resaltamos tendencias importantes, como los autores con más libros publicados, los títulos con mayor número de reseñas, y la distribución de las puntuaciones y de los votos. Estas visualizaciones, apoyadas en gráficos de barras y distribuciones, nos ofrecen una perspectiva clara sobre la calidad y el comportamiento de los datos.\n",
    "\n",
    "En resumen, este EDA nos ha permitido identificar y limpiar las fuentes de ruido, seleccionar los registros más significativos y comprender las relaciones y patrones presentes en el dataset. Todo este proceso nos sienta las bases para las etapas posteriores del proyecto.\n",
    "</div>"
   ]
  },
  {
   "cell_type": "code",
   "execution_count": null,
   "metadata": {},
   "outputs": [],
   "source": [
    "import pandas as pd\n",
    "import spacy\n",
    "from sklearn.feature_extraction.text import TfidfVectorizer\n",
    "import numpy as np\n",
    "\n",
    "import matplotlib.pyplot as plt\n",
    "import seaborn as sns"
   ]
  },
  {
   "cell_type": "markdown",
   "metadata": {},
   "source": [
    "En primer lugar, cargamos el datset y eliminamos los datos duplicados"
   ]
  },
  {
   "cell_type": "code",
   "execution_count": 89,
   "metadata": {},
   "outputs": [],
   "source": [
    "# Leer el CSV\n",
    "dataset_I = pd.read_csv('datasets/books2.csv')\n",
    "# dataset_I['desc'] = dataset_I['desc'].fillna('')\n",
    "dataset = dataset_I.drop_duplicates(keep=False)"
   ]
  },
  {
   "cell_type": "markdown",
   "metadata": {},
   "source": [
    "Observamos el dataset que acabamos de cargar."
   ]
  },
  {
   "cell_type": "code",
   "execution_count": 90,
   "metadata": {},
   "outputs": [
    {
     "data": {
      "text/html": [
       "<div>\n",
       "<style scoped>\n",
       "    .dataframe tbody tr th:only-of-type {\n",
       "        vertical-align: middle;\n",
       "    }\n",
       "\n",
       "    .dataframe tbody tr th {\n",
       "        vertical-align: top;\n",
       "    }\n",
       "\n",
       "    .dataframe thead th {\n",
       "        text-align: right;\n",
       "    }\n",
       "</style>\n",
       "<table border=\"1\" class=\"dataframe\">\n",
       "  <thead>\n",
       "    <tr style=\"text-align: right;\">\n",
       "      <th></th>\n",
       "      <th>author</th>\n",
       "      <th>bookformat</th>\n",
       "      <th>desc</th>\n",
       "      <th>genre</th>\n",
       "      <th>img</th>\n",
       "      <th>isbn</th>\n",
       "      <th>isbn13</th>\n",
       "      <th>link</th>\n",
       "      <th>pages</th>\n",
       "      <th>rating</th>\n",
       "      <th>reviews</th>\n",
       "      <th>title</th>\n",
       "      <th>totalratings</th>\n",
       "    </tr>\n",
       "  </thead>\n",
       "  <tbody>\n",
       "    <tr>\n",
       "      <th>0</th>\n",
       "      <td>Laurence M. Hauptman</td>\n",
       "      <td>Hardcover</td>\n",
       "      <td>Reveals that several hundred thousand Indians ...</td>\n",
       "      <td>History,Military History,Civil War,American Hi...</td>\n",
       "      <td>https://i.gr-assets.com/images/S/compressed.ph...</td>\n",
       "      <td>002914180X</td>\n",
       "      <td>9.78E+12</td>\n",
       "      <td>https://goodreads.com/book/show/1001053.Betwee...</td>\n",
       "      <td>0</td>\n",
       "      <td>3.52</td>\n",
       "      <td>5</td>\n",
       "      <td>Between Two Fires: American Indians in the Civ...</td>\n",
       "      <td>33</td>\n",
       "    </tr>\n",
       "    <tr>\n",
       "      <th>1</th>\n",
       "      <td>Charlotte Fiell,Emmanuelle Dirix</td>\n",
       "      <td>Paperback</td>\n",
       "      <td>Fashion Sourcebook - 1920s is the first book i...</td>\n",
       "      <td>Couture,Fashion,Historical,Art,Nonfiction</td>\n",
       "      <td>https://i.gr-assets.com/images/S/compressed.ph...</td>\n",
       "      <td>1906863482</td>\n",
       "      <td>9.78E+12</td>\n",
       "      <td>https://goodreads.com/book/show/10010552-fashi...</td>\n",
       "      <td>576</td>\n",
       "      <td>4.51</td>\n",
       "      <td>6</td>\n",
       "      <td>Fashion Sourcebook 1920s</td>\n",
       "      <td>41</td>\n",
       "    </tr>\n",
       "    <tr>\n",
       "      <th>2</th>\n",
       "      <td>Andy Anderson</td>\n",
       "      <td>Paperback</td>\n",
       "      <td>The seminal history and analysis of the Hungar...</td>\n",
       "      <td>Politics,History</td>\n",
       "      <td>https://i.gr-assets.com/images/S/compressed.ph...</td>\n",
       "      <td>948984147</td>\n",
       "      <td>9.78E+12</td>\n",
       "      <td>https://goodreads.com/book/show/1001077.Hungar...</td>\n",
       "      <td>124</td>\n",
       "      <td>4.15</td>\n",
       "      <td>2</td>\n",
       "      <td>Hungary 56</td>\n",
       "      <td>26</td>\n",
       "    </tr>\n",
       "    <tr>\n",
       "      <th>3</th>\n",
       "      <td>Carlotta R. Anderson</td>\n",
       "      <td>Hardcover</td>\n",
       "      <td>\"All-American Anarchist\" chronicles the life a...</td>\n",
       "      <td>Labor,History</td>\n",
       "      <td>https://i.gr-assets.com/images/S/compressed.ph...</td>\n",
       "      <td>814327079</td>\n",
       "      <td>9.78E+12</td>\n",
       "      <td>https://goodreads.com/book/show/1001079.All_Am...</td>\n",
       "      <td>324</td>\n",
       "      <td>3.83</td>\n",
       "      <td>1</td>\n",
       "      <td>All-American Anarchist: Joseph A. Labadie and ...</td>\n",
       "      <td>6</td>\n",
       "    </tr>\n",
       "    <tr>\n",
       "      <th>4</th>\n",
       "      <td>Jean Leveille</td>\n",
       "      <td>NaN</td>\n",
       "      <td>Aujourdâ€™hui, lâ€™oiseau nous invite Ã  sa ta...</td>\n",
       "      <td>NaN</td>\n",
       "      <td>https://i.gr-assets.com/images/S/compressed.ph...</td>\n",
       "      <td>2761920813</td>\n",
       "      <td>NaN</td>\n",
       "      <td>https://goodreads.com/book/show/10010880-les-o...</td>\n",
       "      <td>177</td>\n",
       "      <td>4.00</td>\n",
       "      <td>1</td>\n",
       "      <td>Les oiseaux gourmands</td>\n",
       "      <td>1</td>\n",
       "    </tr>\n",
       "    <tr>\n",
       "      <th>...</th>\n",
       "      <td>...</td>\n",
       "      <td>...</td>\n",
       "      <td>...</td>\n",
       "      <td>...</td>\n",
       "      <td>...</td>\n",
       "      <td>...</td>\n",
       "      <td>...</td>\n",
       "      <td>...</td>\n",
       "      <td>...</td>\n",
       "      <td>...</td>\n",
       "      <td>...</td>\n",
       "      <td>...</td>\n",
       "      <td>...</td>\n",
       "    </tr>\n",
       "    <tr>\n",
       "      <th>99995</th>\n",
       "      <td>Simon Monk</td>\n",
       "      <td>ebook</td>\n",
       "      <td>Design custom printed circuit boards with EAGL...</td>\n",
       "      <td>NaN</td>\n",
       "      <td>https://i.gr-assets.com/images/S/compressed.ph...</td>\n",
       "      <td>71819266</td>\n",
       "      <td>9.78007E+12</td>\n",
       "      <td>https://goodreads.com/book/show/17320181-make-...</td>\n",
       "      <td>304</td>\n",
       "      <td>4.07</td>\n",
       "      <td>7</td>\n",
       "      <td>Make Your Own PCBs with Eagle: From Schematic ...</td>\n",
       "      <td>56</td>\n",
       "    </tr>\n",
       "    <tr>\n",
       "      <th>99996</th>\n",
       "      <td>Tracie L. Miller-Nobles,Brenda L. Mattison,Ell...</td>\n",
       "      <td>Hardcover</td>\n",
       "      <td>Redefining tradition in learning accounting. ,...</td>\n",
       "      <td>NaN</td>\n",
       "      <td>https://i.gr-assets.com/images/S/compressed.ph...</td>\n",
       "      <td>133251241</td>\n",
       "      <td>9.78013E+12</td>\n",
       "      <td>https://goodreads.com/book/show/17320260-horng...</td>\n",
       "      <td>1645</td>\n",
       "      <td>4.05</td>\n",
       "      <td>1</td>\n",
       "      <td>Horngren's Financial &amp; Managerial Accounting</td>\n",
       "      <td>38</td>\n",
       "    </tr>\n",
       "    <tr>\n",
       "      <th>99997</th>\n",
       "      <td>C. John Miller</td>\n",
       "      <td>Paperback</td>\n",
       "      <td>In these warm reflections on his own growth as...</td>\n",
       "      <td>Christianity,Evangelism,Christian,Religion,The...</td>\n",
       "      <td>https://i.gr-assets.com/images/S/compressed.ph...</td>\n",
       "      <td>875523919</td>\n",
       "      <td>9.78088E+12</td>\n",
       "      <td>https://goodreads.com/book/show/173203.A_Faith...</td>\n",
       "      <td>160</td>\n",
       "      <td>4.27</td>\n",
       "      <td>20</td>\n",
       "      <td>A Faith Worth Sharing: A Lifetime of Conversat...</td>\n",
       "      <td>122</td>\n",
       "    </tr>\n",
       "    <tr>\n",
       "      <th>99998</th>\n",
       "      <td>Albert Marrin</td>\n",
       "      <td>Hardcover</td>\n",
       "      <td>John Brown is a man of many legacies, from her...</td>\n",
       "      <td>Nonfiction,History,Biography,Military History,...</td>\n",
       "      <td>https://i.gr-assets.com/images/S/compressed.ph...</td>\n",
       "      <td>307981533</td>\n",
       "      <td>9.78031E+12</td>\n",
       "      <td>https://goodreads.com/book/show/17320669-a-vol...</td>\n",
       "      <td>256</td>\n",
       "      <td>3.63</td>\n",
       "      <td>51</td>\n",
       "      <td>A Volcano Beneath the Snow: John Brown's War A...</td>\n",
       "      <td>156</td>\n",
       "    </tr>\n",
       "    <tr>\n",
       "      <th>99999</th>\n",
       "      <td>Marc E. Fitch</td>\n",
       "      <td>ebook</td>\n",
       "      <td>Did you know that interest in UFO research inc...</td>\n",
       "      <td>Fantasy,Paranormal,Nonfiction</td>\n",
       "      <td>https://i.gr-assets.com/images/S/compressed.ph...</td>\n",
       "      <td>313382077</td>\n",
       "      <td>9.78031E+12</td>\n",
       "      <td>https://goodreads.com/book/show/17320689-paran...</td>\n",
       "      <td>398</td>\n",
       "      <td>3.83</td>\n",
       "      <td>3</td>\n",
       "      <td>Paranormal Nation: Why America Needs Ghosts, U...</td>\n",
       "      <td>12</td>\n",
       "    </tr>\n",
       "  </tbody>\n",
       "</table>\n",
       "<p>100000 rows × 13 columns</p>\n",
       "</div>"
      ],
      "text/plain": [
       "                                                  author bookformat  \\\n",
       "0                                   Laurence M. Hauptman  Hardcover   \n",
       "1                       Charlotte Fiell,Emmanuelle Dirix  Paperback   \n",
       "2                                          Andy Anderson  Paperback   \n",
       "3                                   Carlotta R. Anderson  Hardcover   \n",
       "4                                          Jean Leveille        NaN   \n",
       "...                                                  ...        ...   \n",
       "99995                                         Simon Monk      ebook   \n",
       "99996  Tracie L. Miller-Nobles,Brenda L. Mattison,Ell...  Hardcover   \n",
       "99997                                     C. John Miller  Paperback   \n",
       "99998                                      Albert Marrin  Hardcover   \n",
       "99999                                      Marc E. Fitch      ebook   \n",
       "\n",
       "                                                    desc  \\\n",
       "0      Reveals that several hundred thousand Indians ...   \n",
       "1      Fashion Sourcebook - 1920s is the first book i...   \n",
       "2      The seminal history and analysis of the Hungar...   \n",
       "3      \"All-American Anarchist\" chronicles the life a...   \n",
       "4      Aujourdâ€™hui, lâ€™oiseau nous invite Ã  sa ta...   \n",
       "...                                                  ...   \n",
       "99995  Design custom printed circuit boards with EAGL...   \n",
       "99996  Redefining tradition in learning accounting. ,...   \n",
       "99997  In these warm reflections on his own growth as...   \n",
       "99998  John Brown is a man of many legacies, from her...   \n",
       "99999  Did you know that interest in UFO research inc...   \n",
       "\n",
       "                                                   genre  \\\n",
       "0      History,Military History,Civil War,American Hi...   \n",
       "1              Couture,Fashion,Historical,Art,Nonfiction   \n",
       "2                                       Politics,History   \n",
       "3                                          Labor,History   \n",
       "4                                                    NaN   \n",
       "...                                                  ...   \n",
       "99995                                                NaN   \n",
       "99996                                                NaN   \n",
       "99997  Christianity,Evangelism,Christian,Religion,The...   \n",
       "99998  Nonfiction,History,Biography,Military History,...   \n",
       "99999                      Fantasy,Paranormal,Nonfiction   \n",
       "\n",
       "                                                     img        isbn  \\\n",
       "0      https://i.gr-assets.com/images/S/compressed.ph...  002914180X   \n",
       "1      https://i.gr-assets.com/images/S/compressed.ph...  1906863482   \n",
       "2      https://i.gr-assets.com/images/S/compressed.ph...   948984147   \n",
       "3      https://i.gr-assets.com/images/S/compressed.ph...   814327079   \n",
       "4      https://i.gr-assets.com/images/S/compressed.ph...  2761920813   \n",
       "...                                                  ...         ...   \n",
       "99995  https://i.gr-assets.com/images/S/compressed.ph...    71819266   \n",
       "99996  https://i.gr-assets.com/images/S/compressed.ph...   133251241   \n",
       "99997  https://i.gr-assets.com/images/S/compressed.ph...   875523919   \n",
       "99998  https://i.gr-assets.com/images/S/compressed.ph...   307981533   \n",
       "99999  https://i.gr-assets.com/images/S/compressed.ph...   313382077   \n",
       "\n",
       "            isbn13                                               link  pages  \\\n",
       "0         9.78E+12  https://goodreads.com/book/show/1001053.Betwee...      0   \n",
       "1         9.78E+12  https://goodreads.com/book/show/10010552-fashi...    576   \n",
       "2         9.78E+12  https://goodreads.com/book/show/1001077.Hungar...    124   \n",
       "3         9.78E+12  https://goodreads.com/book/show/1001079.All_Am...    324   \n",
       "4              NaN  https://goodreads.com/book/show/10010880-les-o...    177   \n",
       "...            ...                                                ...    ...   \n",
       "99995  9.78007E+12  https://goodreads.com/book/show/17320181-make-...    304   \n",
       "99996  9.78013E+12  https://goodreads.com/book/show/17320260-horng...   1645   \n",
       "99997  9.78088E+12  https://goodreads.com/book/show/173203.A_Faith...    160   \n",
       "99998  9.78031E+12  https://goodreads.com/book/show/17320669-a-vol...    256   \n",
       "99999  9.78031E+12  https://goodreads.com/book/show/17320689-paran...    398   \n",
       "\n",
       "       rating  reviews                                              title  \\\n",
       "0        3.52        5  Between Two Fires: American Indians in the Civ...   \n",
       "1        4.51        6                           Fashion Sourcebook 1920s   \n",
       "2        4.15        2                                         Hungary 56   \n",
       "3        3.83        1  All-American Anarchist: Joseph A. Labadie and ...   \n",
       "4        4.00        1                              Les oiseaux gourmands   \n",
       "...       ...      ...                                                ...   \n",
       "99995    4.07        7  Make Your Own PCBs with Eagle: From Schematic ...   \n",
       "99996    4.05        1       Horngren's Financial & Managerial Accounting   \n",
       "99997    4.27       20  A Faith Worth Sharing: A Lifetime of Conversat...   \n",
       "99998    3.63       51  A Volcano Beneath the Snow: John Brown's War A...   \n",
       "99999    3.83        3  Paranormal Nation: Why America Needs Ghosts, U...   \n",
       "\n",
       "       totalratings  \n",
       "0                33  \n",
       "1                41  \n",
       "2                26  \n",
       "3                 6  \n",
       "4                 1  \n",
       "...             ...  \n",
       "99995            56  \n",
       "99996            38  \n",
       "99997           122  \n",
       "99998           156  \n",
       "99999            12  \n",
       "\n",
       "[100000 rows x 13 columns]"
      ]
     },
     "execution_count": 90,
     "metadata": {},
     "output_type": "execute_result"
    }
   ],
   "source": [
    "dataset"
   ]
  },
  {
   "cell_type": "markdown",
   "metadata": {},
   "source": [
    "Imprimimos las columnas y elminamos aquellas que no vamos a utilizar."
   ]
  },
  {
   "cell_type": "code",
   "execution_count": 91,
   "metadata": {},
   "outputs": [
    {
     "data": {
      "text/plain": [
       "Index(['author', 'bookformat', 'desc', 'genre', 'img', 'isbn', 'isbn13',\n",
       "       'link', 'pages', 'rating', 'reviews', 'title', 'totalratings'],\n",
       "      dtype='object')"
      ]
     },
     "execution_count": 91,
     "metadata": {},
     "output_type": "execute_result"
    }
   ],
   "source": [
    "dataset.columns"
   ]
  },
  {
   "cell_type": "code",
   "execution_count": 92,
   "metadata": {},
   "outputs": [],
   "source": [
    "dataset.drop(columns=['isbn13', 'link','img', 'pages','isbn', 'bookformat'], inplace=True)"
   ]
  },
  {
   "cell_type": "markdown",
   "metadata": {},
   "source": [
    "Vemos qué estructura tiene el dataset despúes de eliminar las columnas y buscamos datos faltantes."
   ]
  },
  {
   "cell_type": "code",
   "execution_count": 93,
   "metadata": {},
   "outputs": [
    {
     "name": "stdout",
     "output_type": "stream",
     "text": [
      "<class 'pandas.core.frame.DataFrame'>\n",
      "RangeIndex: 100000 entries, 0 to 99999\n",
      "Data columns (total 7 columns):\n",
      " #   Column        Non-Null Count   Dtype  \n",
      "---  ------        --------------   -----  \n",
      " 0   author        100000 non-null  object \n",
      " 1   desc          93228 non-null   object \n",
      " 2   genre         89533 non-null   object \n",
      " 3   rating        100000 non-null  float64\n",
      " 4   reviews       100000 non-null  int64  \n",
      " 5   title         99999 non-null   object \n",
      " 6   totalratings  100000 non-null  int64  \n",
      "dtypes: float64(1), int64(2), object(4)\n",
      "memory usage: 5.3+ MB\n"
     ]
    }
   ],
   "source": [
    "dataset.info()"
   ]
  },
  {
   "cell_type": "code",
   "execution_count": 94,
   "metadata": {},
   "outputs": [
    {
     "data": {
      "text/plain": [
       "author              0\n",
       "desc             6772\n",
       "genre           10467\n",
       "rating              0\n",
       "reviews             0\n",
       "title               1\n",
       "totalratings        0\n",
       "dtype: int64"
      ]
     },
     "execution_count": 94,
     "metadata": {},
     "output_type": "execute_result"
    }
   ],
   "source": [
    "dataset.isnull().sum()"
   ]
  },
  {
   "cell_type": "markdown",
   "metadata": {},
   "source": [
    "Dado que disponemos aproximadamente de 100000 registros, decidimos eliminar aquellas columnas registros que tienen alguna columna faltante, para evitar problemas en las estapas posteriores."
   ]
  },
  {
   "cell_type": "code",
   "execution_count": 95,
   "metadata": {},
   "outputs": [],
   "source": [
    "dataset=dataset.dropna()"
   ]
  },
  {
   "cell_type": "markdown",
   "metadata": {},
   "source": [
    "Comprobamos que, efectivamente, ya no tenemos valores faltantes"
   ]
  },
  {
   "cell_type": "code",
   "execution_count": 96,
   "metadata": {},
   "outputs": [
    {
     "data": {
      "text/plain": [
       "author          0\n",
       "desc            0\n",
       "genre           0\n",
       "rating          0\n",
       "reviews         0\n",
       "title           0\n",
       "totalratings    0\n",
       "dtype: int64"
      ]
     },
     "execution_count": 96,
     "metadata": {},
     "output_type": "execute_result"
    }
   ],
   "source": [
    "dataset.isnull().sum()"
   ]
  },
  {
   "cell_type": "markdown",
   "metadata": {},
   "source": [
    "Comprobamos los tipos de datos y que contamos con el mismo numero de registros no nulos para todas las columnas."
   ]
  },
  {
   "cell_type": "code",
   "execution_count": 97,
   "metadata": {},
   "outputs": [
    {
     "name": "stdout",
     "output_type": "stream",
     "text": [
      "<class 'pandas.core.frame.DataFrame'>\n",
      "Index: 85485 entries, 0 to 99999\n",
      "Data columns (total 7 columns):\n",
      " #   Column        Non-Null Count  Dtype  \n",
      "---  ------        --------------  -----  \n",
      " 0   author        85485 non-null  object \n",
      " 1   desc          85485 non-null  object \n",
      " 2   genre         85485 non-null  object \n",
      " 3   rating        85485 non-null  float64\n",
      " 4   reviews       85485 non-null  int64  \n",
      " 5   title         85485 non-null  object \n",
      " 6   totalratings  85485 non-null  int64  \n",
      "dtypes: float64(1), int64(2), object(4)\n",
      "memory usage: 5.2+ MB\n"
     ]
    }
   ],
   "source": [
    "dataset.info()"
   ]
  },
  {
   "cell_type": "code",
   "execution_count": 98,
   "metadata": {},
   "outputs": [
    {
     "data": {
      "text/plain": [
       "(85485, 7)"
      ]
     },
     "execution_count": 98,
     "metadata": {},
     "output_type": "execute_result"
    }
   ],
   "source": [
    "dataset.shape"
   ]
  },
  {
   "cell_type": "markdown",
   "metadata": {},
   "source": [
    "Se ha decidido filtrar el dataset de la siguiente forma para asegurar que el recomendador se base en información de calidad y que los resultados sean más precisos y relevantes. En concreto:\n",
    "\n",
    "- **Descripción del libro:**  \n",
    "  Se mantiene únicamente aquellos libros cuya descripción (campo `desc`) contenga más de 50 palabras. Esto garantiza que cada libro disponga de un resumen suficientemente extenso como para extraer características y matices relevantes sobre el contenido, estilo y temática, lo que en última instancia mejora la capacidad del sistema para hacer recomendaciones acertadas.\n",
    "\n",
    "- **Cantidad de reviews:**  \n",
    "  Se conservan solo los libros que hayan recibido más de 100 reviews. Un mayor número de reviews suele ser un indicador de la popularidad y la relevancia del libro entre los usuarios.\n",
    "\n",
    "En resumen, esta decisión se ha tomado para enfocarnos en aquellos registros que aportan una información sustancial tanto en contenido descriptivo como en la validación social del libro."
   ]
  },
  {
   "cell_type": "code",
   "execution_count": 99,
   "metadata": {},
   "outputs": [],
   "source": [
    "dataset = dataset[dataset['desc'].apply(lambda x: len(x.split()) > 50)]\n",
    "dataset = dataset[dataset['reviews'] > 100]\n"
   ]
  },
  {
   "cell_type": "markdown",
   "metadata": {},
   "source": [
    "Comprobamos con cuántos registros nos hemos quedado:"
   ]
  },
  {
   "cell_type": "code",
   "execution_count": 100,
   "metadata": {},
   "outputs": [
    {
     "data": {
      "text/plain": [
       "(18192, 7)"
      ]
     },
     "execution_count": 100,
     "metadata": {},
     "output_type": "execute_result"
    }
   ],
   "source": [
    "dataset.shape"
   ]
  },
  {
   "cell_type": "markdown",
   "metadata": {},
   "source": [
    "El comando `dataset = dataset.reset_index(drop=True)` reinicia los índices del DataFrame, asignando nuevos índices consecutivos que comienzan en 0.  \n",
    "El parámetro `drop=True` indica que el índice anterior no se conservará en una nueva columna, eliminándolo completamente del DataFrame."
   ]
  },
  {
   "cell_type": "code",
   "execution_count": 101,
   "metadata": {},
   "outputs": [],
   "source": [
    "dataset = dataset.reset_index(drop=True)"
   ]
  },
  {
   "cell_type": "markdown",
   "metadata": {},
   "source": [
    "A continuación,  vamos a asegurarnos de que solo se analicen los textos en inglés con contenido válido.\n",
    "Para ello, se sigue el siguiente proceso:\n",
    "\n",
    "1. **Importación de librerías:**  \n",
    "   Se importa la función `detect` de la librería `langdetect` para identificar el idioma de un texto y se trae la excepción `LangDetectException` para manejar casos en los que la detección falle.\n",
    "\n",
    "2. **Definición de la función `detectar_idioma`:**  \n",
    "   Esta función recibe un texto como entrada y, usando `detect(texto)`, intenta determinar su idioma. Si el texto no es adecuado para la detección (por ejemplo, es muy corto o está vacío), se captura la excepción `LangDetectException` y se devuelve `None`.\n",
    "\n",
    "3. **Aplicación de la detección de idioma:**  \n",
    "   Se aplica la función `detectar_idioma` a cada registro de la columna `desc` del DataFrame, creando una nueva columna llamada `idioma` que contendrá el resultado (por ejemplo, 'en' para inglés).\n",
    "\n",
    "4. **Filtrado del DataFrame:**  \n",
    "   Finalmente, se filtra el DataFrame para quedarnos únicamente con las filas que:\n",
    "   - Tengan como idioma detectado `'en'` (es decir, textos en inglés).\n",
    "   - No tengan valores nulos en la columna `desc`.\n",
    "\n",
    "\n",
    "**Nota**: La librería `langdetect` se basa en un enfoque estadístico utilizando n-gramas y análisis de frecuencias de caracteres para identificar el idioma del texto.\n"
   ]
  },
  {
   "cell_type": "code",
   "execution_count": 102,
   "metadata": {},
   "outputs": [],
   "source": [
    "from langdetect import detect\n",
    "from langdetect.lang_detect_exception import LangDetectException\n",
    " \n",
    "# Detecta el idioma o devuelve None si falla\n",
    "def detectar_idioma(texto):\n",
    "    try:\n",
    "        return detect(texto)\n",
    "    except LangDetectException:\n",
    "        return None\n",
    " \n",
    "# Aplica detección de idioma\n",
    "dataset['idioma'] = dataset['desc'].apply(detectar_idioma)\n",
    " \n",
    "# Filtra solo textos en inglés y no vacíos\n",
    "dataset = dataset[(dataset['idioma'] == 'en') & (dataset['desc'].notna())]\n",
    " "
   ]
  },
  {
   "cell_type": "markdown",
   "metadata": {},
   "source": [
    "Definimos la función `limpiar_texto` que se encarga de preparar y normalizar un texto para su posterior análisis. \n",
    "\n",
    "1. **Verificación del tipo de dato:**  \n",
    "   La función primero comprueba si el argumento `texto` es una cadena de caracteres (`str`). En caso de no serlo, retorna una cadena vacía, evitando errores en pasos posteriores.\n",
    "\n",
    "2. **Eliminación de caracteres corruptos:**  \n",
    "   Se utiliza `re.sub` para reemplazar ocurrencias de caracteres corruptos (como `Â` y `\\xa0`, este último representa un espacio no separable) por un espacio normal. Esto corrige problemas comunes en textos que provienen de fuentes con codificación incorrecta.\n",
    "\n",
    "3. **Conversión a minúsculas:**  \n",
    "   El texto se convierte a minúsculas usando el método `.lower()`, lo cual es importante para mantener la consistencia y evitar duplicidad de información al tratar palabras que solo difieren en mayúsculas/minúsculas.\n",
    "\n",
    "4. **Eliminación de caracteres no alfanuméricos:**  \n",
    "   Se aplica otra sustitución con `re.sub` para eliminar cualquier carácter que no sea alfanumérico. La expresión regular `[^a-z0-9áéíóúñçü\\s]` permite únicamente letras (incluyendo algunas con acentos y la ñ), números y espacios. De esta manera se descartan símbolos o caracteres especiales que puedan interferir en el análisis.\n",
    "\n",
    "5. **Normalización de espacios:**  \n",
    "   Finalmente, se reemplazan múltiples espacios consecutivos por un único espacio y se eliminan espacios en blanco al inicio y al final del texto utilizando `.strip()`.\n",
    "\n"
   ]
  },
  {
   "cell_type": "code",
   "execution_count": 103,
   "metadata": {},
   "outputs": [],
   "source": [
    "import re\n",
    " \n",
    "def limpiar_texto(texto):\n",
    "    if not isinstance(texto, str):\n",
    "        return \"\"\n",
    "    \n",
    "    # Elimina caracteres corruptos como Â, Â , etc.\n",
    "    texto = re.sub(r'[Â\\xa0]+', ' ', texto)  # \\xa0 es espacio no separable\n",
    "\n",
    "    # Se elimina la conversión a minúsculas para preservar las mayúsculas\n",
    "    \n",
    "    # Permite letras (mayúsculas y minúsculas), números, espacios y algunos signos de puntuación (coma, punto, dos puntos y apóstrofe)\n",
    "    texto = re.sub(r\"[^A-Za-z0-9áéíóúÁÉÍÓÚñçüÑÇÜ\\s,.\\':]\", '', texto)\n",
    "    \n",
    "    # Reemplaza espacios múltiples por uno solo\n",
    "    texto = re.sub(r'\\s+', ' ', texto).strip()\n",
    "    \n",
    "    return texto"
   ]
  },
  {
   "cell_type": "code",
   "execution_count": 104,
   "metadata": {},
   "outputs": [],
   "source": [
    "dataset['clean_description'] = dataset['desc'].apply(limpiar_texto)\n",
    "dataset.to_csv('clean_description_english.csv', index=False)"
   ]
  },
  {
   "cell_type": "markdown",
   "metadata": {},
   "source": [
    "Una vez hemos limpiado y preparado el dataset para su posterior análisis, vamos a hacer un análisis exploratorio que nos permita entender qué tenemos."
   ]
  },
  {
   "cell_type": "markdown",
   "metadata": {},
   "source": [
    "Exploramos el campo del género:"
   ]
  },
  {
   "cell_type": "code",
   "execution_count": 105,
   "metadata": {},
   "outputs": [
    {
     "data": {
      "text/plain": [
       "genre\n",
       "Mystery,Fiction,Mystery,Crime,Classics,Mystery,Detective,Thriller,Mystery Thriller,European Literature,British Literature,Audiobook,Mystery,Murder Mystery,Thriller                                                7\n",
       "Mystery,Fiction,Mystery,Crime,Classics,Mystery,Detective,Thriller,Mystery Thriller,European Literature,British Literature,Audiobook,Thriller,Mystery,Murder Mystery                                                5\n",
       "Romance,Historical Romance,Romance,Historical,Historical,Regency,Historical,Historical Fiction,Historical Romance,Regency Romance,Fiction,Adult,European Literature,British Literature,Womens Fiction,Chick Lit    5\n",
       "Mystery,Romance,Mystery,Crime,Fiction,Romance,Romantic Suspense,Futuristic,Suspense,Science Fiction,Thriller,Thriller,Mystery Thriller                                                                             4\n",
       "Mystery,Fiction,Mystery,Crime,Thriller,Thriller,Mystery Thriller,Suspense,Literature,Jewish,Mystery,Detective,Audiobook,Adult                                                                                      4\n",
       "                                                                                                                                                                                                                  ..\n",
       "Romance,Paranormal Romance,Paranormal,Vampires,Fantasy,Fantasy,Paranormal,Business,Amazon,Fantasy,Urban Fantasy,Romance,Adult,Young Adult,Fantasy,Supernatural                                                     1\n",
       "Fantasy,Young Adult,Fantasy,Paranormal,Romance,Romance,Paranormal Romance,Fantasy,Magic,Fantasy,Urban Fantasy,Fantasy,Supernatural,Fantasy,Mythology,Young Adult,Young Adult Fantasy                               1\n",
       "Fiction,Mystery,American,Southern,Literary Fiction,Religion,Adult Fiction,Contemporary,Thriller,Historical,Historical Fiction,Audiobook                                                                            1\n",
       "Amish,Christian Fiction,Fiction,Christian,Christian Fiction,Amish Fiction,Adult,Crafts,Quilting,Inspirational,Adult Fiction,Contemporary                                                                           1\n",
       "Mystery,Fiction,Thriller,Legal Thriller,Thriller,Mystery,Crime,Suspense,Thriller,Mystery Thriller,United States,Audiobook                                                                                          1\n",
       "Name: count, Length: 17271, dtype: int64"
      ]
     },
     "execution_count": 105,
     "metadata": {},
     "output_type": "execute_result"
    }
   ],
   "source": [
    "dataset.genre.value_counts()"
   ]
  },
  {
   "cell_type": "markdown",
   "metadata": {},
   "source": [
    "Imprimimos un resumen estadístico de todas las columnas del DataFrame `dataset`:"
   ]
  },
  {
   "cell_type": "code",
   "execution_count": 106,
   "metadata": {},
   "outputs": [
    {
     "name": "stdout",
     "output_type": "stream",
     "text": [
      "                 author                                               desc  \\\n",
      "count             17452                                              17452   \n",
      "unique            11410                                              17444   \n",
      "top     Agatha Christie  This scarce antiquarian book is a facsimile re...   \n",
      "freq                 44                                                  3   \n",
      "mean                NaN                                                NaN   \n",
      "std                 NaN                                                NaN   \n",
      "min                 NaN                                                NaN   \n",
      "25%                 NaN                                                NaN   \n",
      "50%                 NaN                                                NaN   \n",
      "75%                 NaN                                                NaN   \n",
      "max                 NaN                                                NaN   \n",
      "\n",
      "                                                    genre        rating  \\\n",
      "count                                               17452  17452.000000   \n",
      "unique                                              17271           NaN   \n",
      "top     Mystery,Fiction,Mystery,Crime,Classics,Mystery...           NaN   \n",
      "freq                                                    7           NaN   \n",
      "mean                                                  NaN      3.914862   \n",
      "std                                                   NaN      0.275013   \n",
      "min                                                   NaN      2.050000   \n",
      "25%                                                   NaN      3.750000   \n",
      "50%                                                   NaN      3.930000   \n",
      "75%                                                   NaN      4.110000   \n",
      "max                                                   NaN      4.790000   \n",
      "\n",
      "              reviews   title  totalratings idioma  \\\n",
      "count    17452.000000   17452  1.745200e+04  17452   \n",
      "unique            NaN   16953           NaN      1   \n",
      "top               NaN  Hunted           NaN     en   \n",
      "freq              NaN       6           NaN  17452   \n",
      "mean       907.531515     NaN  1.516450e+04    NaN   \n",
      "std       3365.491511     NaN  8.575345e+04    NaN   \n",
      "min        101.000000     NaN  2.020000e+02    NaN   \n",
      "25%        155.000000     NaN  1.512000e+03    NaN   \n",
      "50%        271.000000     NaN  3.127000e+03    NaN   \n",
      "75%        602.000000     NaN  7.972250e+03    NaN   \n",
      "max     158776.000000     NaN  3.819326e+06    NaN   \n",
      "\n",
      "                                        clean_description  \n",
      "count                                               17452  \n",
      "unique                                              17444  \n",
      "top     This scarce antiquarian book is a facsimile re...  \n",
      "freq                                                    3  \n",
      "mean                                                  NaN  \n",
      "std                                                   NaN  \n",
      "min                                                   NaN  \n",
      "25%                                                   NaN  \n",
      "50%                                                   NaN  \n",
      "75%                                                   NaN  \n",
      "max                                                   NaN  \n"
     ]
    }
   ],
   "source": [
    "print(dataset.describe(include='all'))"
   ]
  },
  {
   "cell_type": "markdown",
   "metadata": {},
   "source": [
    "Podemos ver, por ejemplo, como tenemos 11408 autores diferentes."
   ]
  },
  {
   "cell_type": "markdown",
   "metadata": {},
   "source": [
    "### Top 10 escritores con más libros"
   ]
  },
  {
   "cell_type": "code",
   "execution_count": 107,
   "metadata": {},
   "outputs": [
    {
     "data": {
      "text/plain": [
       "author\n",
       "Agatha Christie    44\n",
       "Kristen Ashley     38\n",
       "Nora Roberts       32\n",
       "R.L. Stine         31\n",
       "Stephen King       29\n",
       "Julie Garwood      26\n",
       "Mercedes Lackey    24\n",
       "Maya Banks         22\n",
       "Anne Perry         19\n",
       "Tamora Pierce      18\n",
       "Name: count, dtype: int64"
      ]
     },
     "execution_count": 107,
     "metadata": {},
     "output_type": "execute_result"
    }
   ],
   "source": [
    "authors = dataset[dataset['author'].str.strip() != '']['author'].value_counts().head(10)\n",
    "authors"
   ]
  },
  {
   "cell_type": "code",
   "execution_count": 108,
   "metadata": {},
   "outputs": [
    {
     "name": "stderr",
     "output_type": "stream",
     "text": [
      "/var/folders/6r/17dbwpxj45s03vzxrc5kddj40000gn/T/ipykernel_38057/1719314631.py:2: FutureWarning: \n",
      "\n",
      "Passing `palette` without assigning `hue` is deprecated and will be removed in v0.14.0. Assign the `y` variable to `hue` and set `legend=False` for the same effect.\n",
      "\n",
      "  sns.countplot(y = \"author\", data = dataset, order = authors.index, palette = \"Accent\")\n"
     ]
    },
    {
     "data": {
      "image/png": "[encoded data removed]",
      "text/plain": [
       "<Figure size 800x600 with 1 Axes>"
      ]
     },
     "metadata": {},
     "output_type": "display_data"
    }
   ],
   "source": [
    "plt.figure(figsize=(8,6))\n",
    "sns.countplot(y = \"author\", data = dataset, order = authors.index, palette = \"Accent\")\n",
    "plt.title('Top authors with most number of books published', fontsize = 15)\n",
    "plt.show()"
   ]
  },
  {
   "cell_type": "markdown",
   "metadata": {},
   "source": [
    "Como se puede observar en la gráfica, los autores con más libros son Agatha Christie y Kristen Ashley"
   ]
  },
  {
   "cell_type": "markdown",
   "metadata": {},
   "source": [
    "### Libros con más reseñas"
   ]
  },
  {
   "cell_type": "code",
   "execution_count": 109,
   "metadata": {},
   "outputs": [
    {
     "data": {
      "text/html": [
       "<div>\n",
       "<style scoped>\n",
       "    .dataframe tbody tr th:only-of-type {\n",
       "        vertical-align: middle;\n",
       "    }\n",
       "\n",
       "    .dataframe tbody tr th {\n",
       "        vertical-align: top;\n",
       "    }\n",
       "\n",
       "    .dataframe thead th {\n",
       "        text-align: right;\n",
       "    }\n",
       "</style>\n",
       "<table border=\"1\" class=\"dataframe\">\n",
       "  <thead>\n",
       "    <tr style=\"text-align: right;\">\n",
       "      <th></th>\n",
       "      <th>author</th>\n",
       "      <th>desc</th>\n",
       "      <th>genre</th>\n",
       "      <th>rating</th>\n",
       "      <th>reviews</th>\n",
       "      <th>totalratings</th>\n",
       "      <th>idioma</th>\n",
       "      <th>clean_description</th>\n",
       "    </tr>\n",
       "    <tr>\n",
       "      <th>title</th>\n",
       "      <th></th>\n",
       "      <th></th>\n",
       "      <th></th>\n",
       "      <th></th>\n",
       "      <th></th>\n",
       "      <th></th>\n",
       "      <th></th>\n",
       "      <th></th>\n",
       "    </tr>\n",
       "  </thead>\n",
       "  <tbody>\n",
       "    <tr>\n",
       "      <th>The Fault in Our Stars</th>\n",
       "      <td>John Green</td>\n",
       "      <td>Despite the tumor-shrinking medical miracle th...</td>\n",
       "      <td>Young Adult,Romance,Fiction,Contemporary,Reali...</td>\n",
       "      <td>4.19</td>\n",
       "      <td>158776</td>\n",
       "      <td>3819326</td>\n",
       "      <td>en</td>\n",
       "      <td>Despite the tumorshrinking medical miracle tha...</td>\n",
       "    </tr>\n",
       "    <tr>\n",
       "      <th>Divergent</th>\n",
       "      <td>Veronica Roth</td>\n",
       "      <td>In Beatrice Prior's dystopian Chicago world, s...</td>\n",
       "      <td>Young Adult,Science Fiction,Dystopia,Fiction,F...</td>\n",
       "      <td>4.18</td>\n",
       "      <td>110042</td>\n",
       "      <td>3099689</td>\n",
       "      <td>en</td>\n",
       "      <td>In Beatrice Prior's dystopian Chicago world, s...</td>\n",
       "    </tr>\n",
       "    <tr>\n",
       "      <th>Harry Potter and the Deathly Hallows</th>\n",
       "      <td>J.K. Rowling</td>\n",
       "      <td>Harry Potter is leaving Privet Drive for the l...</td>\n",
       "      <td>Fantasy,Young Adult,Fiction,Fantasy,Magic,Chil...</td>\n",
       "      <td>4.62</td>\n",
       "      <td>68974</td>\n",
       "      <td>2984351</td>\n",
       "      <td>en</td>\n",
       "      <td>Harry Potter is leaving Privet Drive for the l...</td>\n",
       "    </tr>\n",
       "    <tr>\n",
       "      <th>Animal Farm</th>\n",
       "      <td>George Orwell,Russell Baker,C.M. Woodhouse</td>\n",
       "      <td>Librarian's note: There is an Alternate Cover ...</td>\n",
       "      <td>Classics,Fiction,Science Fiction,Dystopia,Fant...</td>\n",
       "      <td>3.96</td>\n",
       "      <td>61970</td>\n",
       "      <td>2938072</td>\n",
       "      <td>en</td>\n",
       "      <td>Librarian's note: There is an Alternate Cover ...</td>\n",
       "    </tr>\n",
       "    <tr>\n",
       "      <th>Harry Potter and the Chamber of Secrets</th>\n",
       "      <td>J.K. Rowling,Mary GrandPrÃ©</td>\n",
       "      <td>Ever since Harry Potter had come home for the ...</td>\n",
       "      <td>Fantasy,Young Adult,Fiction,Fantasy,Magic,Chil...</td>\n",
       "      <td>4.43</td>\n",
       "      <td>57146</td>\n",
       "      <td>2934616</td>\n",
       "      <td>en</td>\n",
       "      <td>Ever since Harry Potter had come home for the ...</td>\n",
       "    </tr>\n",
       "    <tr>\n",
       "      <th>The Lion, the Witch and the Wardrobe</th>\n",
       "      <td>C.S. Lewis</td>\n",
       "      <td>Narniaâ€¦ the land beyond the wardrobe door, a...</td>\n",
       "      <td>Fantasy,Classics,Fiction,Young Adult,Childrens...</td>\n",
       "      <td>4.22</td>\n",
       "      <td>23770</td>\n",
       "      <td>2256904</td>\n",
       "      <td>en</td>\n",
       "      <td>Narnia the land beyond the wardrobe door, a se...</td>\n",
       "    </tr>\n",
       "    <tr>\n",
       "      <th>A Game of Thrones</th>\n",
       "      <td>George R.R. Martin</td>\n",
       "      <td>Here is the first volume in George R. R. Marti...</td>\n",
       "      <td>Fantasy,Fiction,Fantasy,Epic Fantasy,Adult,Sci...</td>\n",
       "      <td>4.44</td>\n",
       "      <td>55705</td>\n",
       "      <td>2097707</td>\n",
       "      <td>en</td>\n",
       "      <td>Here is the first volume in George R. R. Marti...</td>\n",
       "    </tr>\n",
       "    <tr>\n",
       "      <th>The Lovely Bones</th>\n",
       "      <td>Alice Sebold</td>\n",
       "      <td>\"My name was Salmon, like the fish; first name...</td>\n",
       "      <td>Fiction,Mystery,Young Adult,Contemporary,Fanta...</td>\n",
       "      <td>3.82</td>\n",
       "      <td>41393</td>\n",
       "      <td>2095009</td>\n",
       "      <td>en</td>\n",
       "      <td>My name was Salmon, like the fish first name, ...</td>\n",
       "    </tr>\n",
       "    <tr>\n",
       "      <th>Fifty Shades of Grey</th>\n",
       "      <td>E.L. James</td>\n",
       "      <td>When literature student Anastasia Steele goes ...</td>\n",
       "      <td>Romance,Fiction,Adult Fiction,Erotica,Adult,Er...</td>\n",
       "      <td>3.66</td>\n",
       "      <td>79264</td>\n",
       "      <td>2070036</td>\n",
       "      <td>en</td>\n",
       "      <td>When literature student Anastasia Steele goes ...</td>\n",
       "    </tr>\n",
       "    <tr>\n",
       "      <th>Fahrenheit 451</th>\n",
       "      <td>Ray Bradbury</td>\n",
       "      <td>Guy Montag is a fireman. In his world, where t...</td>\n",
       "      <td>Classics,Fiction,Science Fiction,Science Ficti...</td>\n",
       "      <td>3.99</td>\n",
       "      <td>51835</td>\n",
       "      <td>1803486</td>\n",
       "      <td>en</td>\n",
       "      <td>Guy Montag is a fireman. In his world, where t...</td>\n",
       "    </tr>\n",
       "  </tbody>\n",
       "</table>\n",
       "</div>"
      ],
      "text/plain": [
       "                                                                             author  \\\n",
       "title                                                                                 \n",
       "The Fault in Our Stars                                                   John Green   \n",
       "Divergent                                                             Veronica Roth   \n",
       "Harry Potter and the Deathly Hallows                                   J.K. Rowling   \n",
       "Animal Farm                              George Orwell,Russell Baker,C.M. Woodhouse   \n",
       "Harry Potter and the Chamber of Secrets                 J.K. Rowling,Mary GrandPrÃ©   \n",
       "The Lion, the Witch and the Wardrobe                                     C.S. Lewis   \n",
       "A Game of Thrones                                                George R.R. Martin   \n",
       "The Lovely Bones                                                       Alice Sebold   \n",
       "Fifty Shades of Grey                                                     E.L. James   \n",
       "Fahrenheit 451                                                         Ray Bradbury   \n",
       "\n",
       "                                                                                      desc  \\\n",
       "title                                                                                        \n",
       "The Fault in Our Stars                   Despite the tumor-shrinking medical miracle th...   \n",
       "Divergent                                In Beatrice Prior's dystopian Chicago world, s...   \n",
       "Harry Potter and the Deathly Hallows     Harry Potter is leaving Privet Drive for the l...   \n",
       "Animal Farm                              Librarian's note: There is an Alternate Cover ...   \n",
       "Harry Potter and the Chamber of Secrets  Ever since Harry Potter had come home for the ...   \n",
       "The Lion, the Witch and the Wardrobe     Narniaâ€¦ the land beyond the wardrobe door, a...   \n",
       "A Game of Thrones                        Here is the first volume in George R. R. Marti...   \n",
       "The Lovely Bones                         \"My name was Salmon, like the fish; first name...   \n",
       "Fifty Shades of Grey                     When literature student Anastasia Steele goes ...   \n",
       "Fahrenheit 451                           Guy Montag is a fireman. In his world, where t...   \n",
       "\n",
       "                                                                                     genre  \\\n",
       "title                                                                                        \n",
       "The Fault in Our Stars                   Young Adult,Romance,Fiction,Contemporary,Reali...   \n",
       "Divergent                                Young Adult,Science Fiction,Dystopia,Fiction,F...   \n",
       "Harry Potter and the Deathly Hallows     Fantasy,Young Adult,Fiction,Fantasy,Magic,Chil...   \n",
       "Animal Farm                              Classics,Fiction,Science Fiction,Dystopia,Fant...   \n",
       "Harry Potter and the Chamber of Secrets  Fantasy,Young Adult,Fiction,Fantasy,Magic,Chil...   \n",
       "The Lion, the Witch and the Wardrobe     Fantasy,Classics,Fiction,Young Adult,Childrens...   \n",
       "A Game of Thrones                        Fantasy,Fiction,Fantasy,Epic Fantasy,Adult,Sci...   \n",
       "The Lovely Bones                         Fiction,Mystery,Young Adult,Contemporary,Fanta...   \n",
       "Fifty Shades of Grey                     Romance,Fiction,Adult Fiction,Erotica,Adult,Er...   \n",
       "Fahrenheit 451                           Classics,Fiction,Science Fiction,Science Ficti...   \n",
       "\n",
       "                                         rating  reviews  totalratings idioma  \\\n",
       "title                                                                           \n",
       "The Fault in Our Stars                     4.19   158776       3819326     en   \n",
       "Divergent                                  4.18   110042       3099689     en   \n",
       "Harry Potter and the Deathly Hallows       4.62    68974       2984351     en   \n",
       "Animal Farm                                3.96    61970       2938072     en   \n",
       "Harry Potter and the Chamber of Secrets    4.43    57146       2934616     en   \n",
       "The Lion, the Witch and the Wardrobe       4.22    23770       2256904     en   \n",
       "A Game of Thrones                          4.44    55705       2097707     en   \n",
       "The Lovely Bones                           3.82    41393       2095009     en   \n",
       "Fifty Shades of Grey                       3.66    79264       2070036     en   \n",
       "Fahrenheit 451                             3.99    51835       1803486     en   \n",
       "\n",
       "                                                                         clean_description  \n",
       "title                                                                                       \n",
       "The Fault in Our Stars                   Despite the tumorshrinking medical miracle tha...  \n",
       "Divergent                                In Beatrice Prior's dystopian Chicago world, s...  \n",
       "Harry Potter and the Deathly Hallows     Harry Potter is leaving Privet Drive for the l...  \n",
       "Animal Farm                              Librarian's note: There is an Alternate Cover ...  \n",
       "Harry Potter and the Chamber of Secrets  Ever since Harry Potter had come home for the ...  \n",
       "The Lion, the Witch and the Wardrobe     Narnia the land beyond the wardrobe door, a se...  \n",
       "A Game of Thrones                        Here is the first volume in George R. R. Marti...  \n",
       "The Lovely Bones                         My name was Salmon, like the fish first name, ...  \n",
       "Fifty Shades of Grey                     When literature student Anastasia Steele goes ...  \n",
       "Fahrenheit 451                           Guy Montag is a fireman. In his world, where t...  "
      ]
     },
     "execution_count": 109,
     "metadata": {},
     "output_type": "execute_result"
    }
   ],
   "source": [
    "books = dataset.sort_values('totalratings', ascending = False).head(10).set_index('title')\n",
    "books"
   ]
  },
  {
   "cell_type": "code",
   "execution_count": 110,
   "metadata": {},
   "outputs": [
    {
     "name": "stderr",
     "output_type": "stream",
     "text": [
      "/var/folders/6r/17dbwpxj45s03vzxrc5kddj40000gn/T/ipykernel_38057/188225505.py:2: FutureWarning: \n",
      "\n",
      "Passing `palette` without assigning `hue` is deprecated and will be removed in v0.14.0. Assign the `y` variable to `hue` and set `legend=False` for the same effect.\n",
      "\n",
      "  sns.barplot(x=books['totalratings'], y=books.index, palette='Set2')\n"
     ]
    },
    {
     "data": {
      "image/png": "[encoded data removed]",
      "text/plain": [
       "<Figure size 800x600 with 1 Axes>"
      ]
     },
     "metadata": {},
     "output_type": "display_data"
    }
   ],
   "source": [
    "plt.figure(figsize=(8,6))\n",
    "sns.barplot(x=books['totalratings'], y=books.index, palette='Set2')\n",
    "plt.title('The books with the largest number of voters', fontsize=15)\n",
    "plt.xlabel('Number of Voters')\n",
    "plt.ylabel('Book Titles')\n",
    "plt.show()"
   ]
  },
  {
   "cell_type": "markdown",
   "metadata": {},
   "source": [
    "Podemos ver que los libros con mayor número de reseñas son 'The fault in our stars' y 'Divergent'"
   ]
  },
  {
   "cell_type": "markdown",
   "metadata": {},
   "source": [
    "### Mejores libros por valoración media"
   ]
  },
  {
   "cell_type": "markdown",
   "metadata": {},
   "source": [
    "Se escogen solo aquellos libros que tengan más de 500 votaciones para evitar resultados erróneos."
   ]
  },
  {
   "cell_type": "code",
   "execution_count": 111,
   "metadata": {},
   "outputs": [
    {
     "data": {
      "text/html": [
       "<div>\n",
       "<style scoped>\n",
       "    .dataframe tbody tr th:only-of-type {\n",
       "        vertical-align: middle;\n",
       "    }\n",
       "\n",
       "    .dataframe tbody tr th {\n",
       "        vertical-align: top;\n",
       "    }\n",
       "\n",
       "    .dataframe thead th {\n",
       "        text-align: right;\n",
       "    }\n",
       "</style>\n",
       "<table border=\"1\" class=\"dataframe\">\n",
       "  <thead>\n",
       "    <tr style=\"text-align: right;\">\n",
       "      <th></th>\n",
       "      <th>author</th>\n",
       "      <th>desc</th>\n",
       "      <th>genre</th>\n",
       "      <th>rating</th>\n",
       "      <th>reviews</th>\n",
       "      <th>title</th>\n",
       "      <th>totalratings</th>\n",
       "      <th>idioma</th>\n",
       "      <th>clean_description</th>\n",
       "    </tr>\n",
       "  </thead>\n",
       "  <tbody>\n",
       "    <tr>\n",
       "      <th>1</th>\n",
       "      <td>Christopher  Morley</td>\n",
       "      <td>Roger Mifflin is part pixie, part sage, part n...</td>\n",
       "      <td>Fiction,Writing,Books About Books,Classics,Hum...</td>\n",
       "      <td>4.03</td>\n",
       "      <td>1214</td>\n",
       "      <td>Parnassus on Wheels</td>\n",
       "      <td>6107</td>\n",
       "      <td>en</td>\n",
       "      <td>Roger Mifflin is part pixie, part sage, part n...</td>\n",
       "    </tr>\n",
       "    <tr>\n",
       "      <th>2</th>\n",
       "      <td>Robert J. Shiller</td>\n",
       "      <td>As Robert Shillerâ€™s new 2009 preface to his ...</td>\n",
       "      <td>Economics,Economics,Finance,Business,Nonfictio...</td>\n",
       "      <td>3.98</td>\n",
       "      <td>275</td>\n",
       "      <td>Irrational Exuberance</td>\n",
       "      <td>7019</td>\n",
       "      <td>en</td>\n",
       "      <td>As Robert Shillers new 2009 preface to his pre...</td>\n",
       "    </tr>\n",
       "    <tr>\n",
       "      <th>3</th>\n",
       "      <td>Joseph Staten</td>\n",
       "      <td>This is how it began...,It is the year 2524. H...</td>\n",
       "      <td>Science Fiction,Fiction,Games,Video Games,Spor...</td>\n",
       "      <td>3.98</td>\n",
       "      <td>271</td>\n",
       "      <td>Halo: Contact Harvest</td>\n",
       "      <td>8033</td>\n",
       "      <td>en</td>\n",
       "      <td>This is how it began...,It is the year 2524. H...</td>\n",
       "    </tr>\n",
       "    <tr>\n",
       "      <th>5</th>\n",
       "      <td>Eliezer Yudkowsky</td>\n",
       "      <td>Harry Potter and the Methods of Rationality is...</td>\n",
       "      <td>Fantasy,Fiction,Fan Fiction,Philosophy,Science...</td>\n",
       "      <td>4.40</td>\n",
       "      <td>1414</td>\n",
       "      <td>Harry Potter and the Methods of Rationality</td>\n",
       "      <td>14293</td>\n",
       "      <td>en</td>\n",
       "      <td>Harry Potter and the Methods of Rationality is...</td>\n",
       "    </tr>\n",
       "    <tr>\n",
       "      <th>7</th>\n",
       "      <td>Blanche Fisher Wright</td>\n",
       "      <td>For nearly a century, The Real Mother Goose ha...</td>\n",
       "      <td>Childrens,Poetry,Childrens,Picture Books,Class...</td>\n",
       "      <td>4.30</td>\n",
       "      <td>347</td>\n",
       "      <td>The Real Mother Goose</td>\n",
       "      <td>36456</td>\n",
       "      <td>en</td>\n",
       "      <td>For nearly a century, The Real Mother Goose ha...</td>\n",
       "    </tr>\n",
       "    <tr>\n",
       "      <th>...</th>\n",
       "      <td>...</td>\n",
       "      <td>...</td>\n",
       "      <td>...</td>\n",
       "      <td>...</td>\n",
       "      <td>...</td>\n",
       "      <td>...</td>\n",
       "      <td>...</td>\n",
       "      <td>...</td>\n",
       "      <td>...</td>\n",
       "    </tr>\n",
       "    <tr>\n",
       "      <th>18172</th>\n",
       "      <td>David Heinemeier Hansson,Jason Fried</td>\n",
       "      <td>The â€œwork from homeâ€ phenomenon is thoroug...</td>\n",
       "      <td>Business,Nonfiction,Business,Management,Produc...</td>\n",
       "      <td>3.82</td>\n",
       "      <td>1018</td>\n",
       "      <td>Remote: Office Not Required</td>\n",
       "      <td>11398</td>\n",
       "      <td>en</td>\n",
       "      <td>The work from home phenomenon is thoroughly ex...</td>\n",
       "    </tr>\n",
       "    <tr>\n",
       "      <th>18174</th>\n",
       "      <td>Melissa Landers</td>\n",
       "      <td>The romantic sequel to Alienated takes long-di...</td>\n",
       "      <td>Young Adult,Science Fiction,Romance,Science Fi...</td>\n",
       "      <td>3.94</td>\n",
       "      <td>993</td>\n",
       "      <td>Invaded</td>\n",
       "      <td>7056</td>\n",
       "      <td>en</td>\n",
       "      <td>The romantic sequel to Alienated takes longdis...</td>\n",
       "    </tr>\n",
       "    <tr>\n",
       "      <th>18175</th>\n",
       "      <td>Elizabeth Moon</td>\n",
       "      <td>Paks the warrior must learn to live with Paks ...</td>\n",
       "      <td>Fantasy,Fiction,Fantasy,Epic Fantasy,Fantasy,H...</td>\n",
       "      <td>4.27</td>\n",
       "      <td>235</td>\n",
       "      <td>Oath of Gold</td>\n",
       "      <td>6919</td>\n",
       "      <td>en</td>\n",
       "      <td>Paks the warrior must learn to live with Paks ...</td>\n",
       "    </tr>\n",
       "    <tr>\n",
       "      <th>18179</th>\n",
       "      <td>C.J. Roberts</td>\n",
       "      <td>I'm writing this because you begged. You know ...</td>\n",
       "      <td>Dark,Romance,Erotica,BDSM,Adult Fiction,Erotic...</td>\n",
       "      <td>4.26</td>\n",
       "      <td>2533</td>\n",
       "      <td>Epilogue</td>\n",
       "      <td>28007</td>\n",
       "      <td>en</td>\n",
       "      <td>I'm writing this because you begged. You know ...</td>\n",
       "    </tr>\n",
       "    <tr>\n",
       "      <th>18180</th>\n",
       "      <td>Terry Goodkind</td>\n",
       "      <td>From the internationally bestselling author of...</td>\n",
       "      <td>Fantasy,Fiction,Fantasy,Epic Fantasy,Fantasy,H...</td>\n",
       "      <td>3.85</td>\n",
       "      <td>756</td>\n",
       "      <td>The Third Kingdom</td>\n",
       "      <td>11462</td>\n",
       "      <td>en</td>\n",
       "      <td>From the internationally bestselling author of...</td>\n",
       "    </tr>\n",
       "  </tbody>\n",
       "</table>\n",
       "<p>6261 rows × 9 columns</p>\n",
       "</div>"
      ],
      "text/plain": [
       "                                     author  \\\n",
       "1                       Christopher  Morley   \n",
       "2                         Robert J. Shiller   \n",
       "3                             Joseph Staten   \n",
       "5                         Eliezer Yudkowsky   \n",
       "7                     Blanche Fisher Wright   \n",
       "...                                     ...   \n",
       "18172  David Heinemeier Hansson,Jason Fried   \n",
       "18174                       Melissa Landers   \n",
       "18175                        Elizabeth Moon   \n",
       "18179                          C.J. Roberts   \n",
       "18180                        Terry Goodkind   \n",
       "\n",
       "                                                    desc  \\\n",
       "1      Roger Mifflin is part pixie, part sage, part n...   \n",
       "2      As Robert Shillerâ€™s new 2009 preface to his ...   \n",
       "3      This is how it began...,It is the year 2524. H...   \n",
       "5      Harry Potter and the Methods of Rationality is...   \n",
       "7      For nearly a century, The Real Mother Goose ha...   \n",
       "...                                                  ...   \n",
       "18172  The â€œwork from homeâ€ phenomenon is thoroug...   \n",
       "18174  The romantic sequel to Alienated takes long-di...   \n",
       "18175  Paks the warrior must learn to live with Paks ...   \n",
       "18179  I'm writing this because you begged. You know ...   \n",
       "18180  From the internationally bestselling author of...   \n",
       "\n",
       "                                                   genre  rating  reviews  \\\n",
       "1      Fiction,Writing,Books About Books,Classics,Hum...    4.03     1214   \n",
       "2      Economics,Economics,Finance,Business,Nonfictio...    3.98      275   \n",
       "3      Science Fiction,Fiction,Games,Video Games,Spor...    3.98      271   \n",
       "5      Fantasy,Fiction,Fan Fiction,Philosophy,Science...    4.40     1414   \n",
       "7      Childrens,Poetry,Childrens,Picture Books,Class...    4.30      347   \n",
       "...                                                  ...     ...      ...   \n",
       "18172  Business,Nonfiction,Business,Management,Produc...    3.82     1018   \n",
       "18174  Young Adult,Science Fiction,Romance,Science Fi...    3.94      993   \n",
       "18175  Fantasy,Fiction,Fantasy,Epic Fantasy,Fantasy,H...    4.27      235   \n",
       "18179  Dark,Romance,Erotica,BDSM,Adult Fiction,Erotic...    4.26     2533   \n",
       "18180  Fantasy,Fiction,Fantasy,Epic Fantasy,Fantasy,H...    3.85      756   \n",
       "\n",
       "                                             title  totalratings idioma  \\\n",
       "1                              Parnassus on Wheels          6107     en   \n",
       "2                            Irrational Exuberance          7019     en   \n",
       "3                            Halo: Contact Harvest          8033     en   \n",
       "5      Harry Potter and the Methods of Rationality         14293     en   \n",
       "7                            The Real Mother Goose         36456     en   \n",
       "...                                            ...           ...    ...   \n",
       "18172                  Remote: Office Not Required         11398     en   \n",
       "18174                                      Invaded          7056     en   \n",
       "18175                                 Oath of Gold          6919     en   \n",
       "18179                                     Epilogue         28007     en   \n",
       "18180                            The Third Kingdom         11462     en   \n",
       "\n",
       "                                       clean_description  \n",
       "1      Roger Mifflin is part pixie, part sage, part n...  \n",
       "2      As Robert Shillers new 2009 preface to his pre...  \n",
       "3      This is how it began...,It is the year 2524. H...  \n",
       "5      Harry Potter and the Methods of Rationality is...  \n",
       "7      For nearly a century, The Real Mother Goose ha...  \n",
       "...                                                  ...  \n",
       "18172  The work from home phenomenon is thoroughly ex...  \n",
       "18174  The romantic sequel to Alienated takes longdis...  \n",
       "18175  Paks the warrior must learn to live with Paks ...  \n",
       "18179  I'm writing this because you begged. You know ...  \n",
       "18180  From the internationally bestselling author of...  \n",
       "\n",
       "[6261 rows x 9 columns]"
      ]
     },
     "execution_count": 111,
     "metadata": {},
     "output_type": "execute_result"
    }
   ],
   "source": [
    "ratings = dataset[dataset['totalratings']>5000]\n",
    "ratings"
   ]
  },
  {
   "cell_type": "code",
   "execution_count": 112,
   "metadata": {},
   "outputs": [
    {
     "data": {
      "text/html": [
       "<div>\n",
       "<style scoped>\n",
       "    .dataframe tbody tr th:only-of-type {\n",
       "        vertical-align: middle;\n",
       "    }\n",
       "\n",
       "    .dataframe tbody tr th {\n",
       "        vertical-align: top;\n",
       "    }\n",
       "\n",
       "    .dataframe thead th {\n",
       "        text-align: right;\n",
       "    }\n",
       "</style>\n",
       "<table border=\"1\" class=\"dataframe\">\n",
       "  <thead>\n",
       "    <tr style=\"text-align: right;\">\n",
       "      <th></th>\n",
       "      <th>rating</th>\n",
       "    </tr>\n",
       "    <tr>\n",
       "      <th>title</th>\n",
       "      <th></th>\n",
       "    </tr>\n",
       "  </thead>\n",
       "  <tbody>\n",
       "    <tr>\n",
       "      <th>The Way of Kings, Part 2</th>\n",
       "      <td>4.79</td>\n",
       "    </tr>\n",
       "    <tr>\n",
       "      <th>The Jesus Storybook Bible: Every Story Whispers His Name</th>\n",
       "      <td>4.73</td>\n",
       "    </tr>\n",
       "    <tr>\n",
       "      <th>The Outlander Series</th>\n",
       "      <td>4.73</td>\n",
       "    </tr>\n",
       "    <tr>\n",
       "      <th>Harry Potter Collection</th>\n",
       "      <td>4.73</td>\n",
       "    </tr>\n",
       "    <tr>\n",
       "      <th>The Monster in the Hollows</th>\n",
       "      <td>4.68</td>\n",
       "    </tr>\n",
       "    <tr>\n",
       "      <th>The Absolute Sandman, Volume Two</th>\n",
       "      <td>4.68</td>\n",
       "    </tr>\n",
       "    <tr>\n",
       "      <th>Fullmetal Alchemist, Vol. 26</th>\n",
       "      <td>4.67</td>\n",
       "    </tr>\n",
       "    <tr>\n",
       "      <th>Clockwork Angel; Clockwork Prince; Clockwork Princess</th>\n",
       "      <td>4.67</td>\n",
       "    </tr>\n",
       "    <tr>\n",
       "      <th>Fullmetal Alchemist, Vol. 25</th>\n",
       "      <td>4.66</td>\n",
       "    </tr>\n",
       "    <tr>\n",
       "      <th>The Revenge of the Baby-Sat</th>\n",
       "      <td>4.65</td>\n",
       "    </tr>\n",
       "  </tbody>\n",
       "</table>\n",
       "</div>"
      ],
      "text/plain": [
       "                                                    rating\n",
       "title                                                     \n",
       "The Way of Kings, Part 2                              4.79\n",
       "The Jesus Storybook Bible: Every Story Whispers...    4.73\n",
       "The Outlander Series                                  4.73\n",
       "Harry Potter Collection                               4.73\n",
       "The Monster in the Hollows                            4.68\n",
       "The Absolute Sandman, Volume Two                      4.68\n",
       "Fullmetal Alchemist, Vol. 26                          4.67\n",
       "Clockwork Angel; Clockwork Prince; Clockwork Pr...    4.67\n",
       "Fullmetal Alchemist, Vol. 25                          4.66\n",
       "The Revenge of the Baby-Sat                           4.65"
      ]
     },
     "execution_count": 112,
     "metadata": {},
     "output_type": "execute_result"
    }
   ],
   "source": [
    "books_rated = ratings[['rating','title']].groupby('title').mean().sort_values('rating', axis=0, ascending = False).head(10)\n",
    "books_rated"
   ]
  },
  {
   "cell_type": "code",
   "execution_count": 113,
   "metadata": {},
   "outputs": [
    {
     "name": "stderr",
     "output_type": "stream",
     "text": [
      "/var/folders/6r/17dbwpxj45s03vzxrc5kddj40000gn/T/ipykernel_38057/3551883755.py:2: FutureWarning: \n",
      "\n",
      "Passing `palette` without assigning `hue` is deprecated and will be removed in v0.14.0. Assign the `y` variable to `hue` and set `legend=False` for the same effect.\n",
      "\n",
      "  sns.barplot(x=books_rated['rating'], y=books_rated.index, palette='Set3')\n"
     ]
    },
    {
     "data": {
      "image/png": "[encoded data removed]",
      "text/plain": [
       "<Figure size 800x600 with 1 Axes>"
      ]
     },
     "metadata": {},
     "output_type": "display_data"
    }
   ],
   "source": [
    "plt.figure(figsize=(8,6))\n",
    "sns.barplot(x=books_rated['rating'], y=books_rated.index, palette='Set3')\n",
    "plt.title('The books by the best rating', fontsize=20)\n",
    "plt.xlabel('Average Rating')\n",
    "plt.ylabel('Book Titles')\n",
    "plt.show()"
   ]
  },
  {
   "cell_type": "markdown",
   "metadata": {},
   "source": [
    "Observando la gráfica vemos que los libros con mejor valoración media son 'The way of kings, Part 2' y 'The Jesus Storybook Bible: Every Story Whispers His Name'"
   ]
  },
  {
   "cell_type": "markdown",
   "metadata": {},
   "source": [
    "### Distribución de la variable 'average_rating'"
   ]
  },
  {
   "cell_type": "code",
   "execution_count": 114,
   "metadata": {},
   "outputs": [
    {
     "name": "stderr",
     "output_type": "stream",
     "text": [
      "/var/folders/6r/17dbwpxj45s03vzxrc5kddj40000gn/T/ipykernel_38057/1270893391.py:2: UserWarning: \n",
      "\n",
      "`distplot` is a deprecated function and will be removed in seaborn v0.14.0.\n",
      "\n",
      "Please adapt your code to use either `displot` (a figure-level function with\n",
      "similar flexibility) or `histplot` (an axes-level function for histograms).\n",
      "\n",
      "For a guide to updating your code to use the new functions, please see\n",
      "https://gist.github.com/mwaskom/de44147ed2974457ad6372750bbe5751\n",
      "\n",
      "  sns.distplot(dataset.rating, color = 'teal')\n"
     ]
    },
    {
     "data": {
      "image/png": "[encoded data removed]",
      "text/plain": [
       "<Figure size 560x350 with 1 Axes>"
      ]
     },
     "metadata": {},
     "output_type": "display_data"
    }
   ],
   "source": [
    "plt.figure(figsize=(8,5), dpi = 70)\n",
    "sns.distplot(dataset.rating, color = 'teal')\n",
    "plt.xlabel('rating', fontsize=13)\n",
    "plt.title('Rating distribution for all books',fontsize=15)\n",
    "plt.show()"
   ]
  },
  {
   "cell_type": "markdown",
   "metadata": {},
   "source": [
    "### Distribución de la variable 'totalratings'"
   ]
  },
  {
   "cell_type": "code",
   "execution_count": 115,
   "metadata": {},
   "outputs": [
    {
     "name": "stderr",
     "output_type": "stream",
     "text": [
      "/var/folders/6r/17dbwpxj45s03vzxrc5kddj40000gn/T/ipykernel_38057/2981022792.py:2: UserWarning: \n",
      "\n",
      "`distplot` is a deprecated function and will be removed in seaborn v0.14.0.\n",
      "\n",
      "Please adapt your code to use either `displot` (a figure-level function with\n",
      "similar flexibility) or `histplot` (an axes-level function for histograms).\n",
      "\n",
      "For a guide to updating your code to use the new functions, please see\n",
      "https://gist.github.com/mwaskom/de44147ed2974457ad6372750bbe5751\n",
      "\n",
      "  sns.distplot(dataset.totalratings, color = 'teal')\n"
     ]
    },
    {
     "data": {
      "image/png": "[encoded data removed]",
      "text/plain": [
       "<Figure size 560x350 with 1 Axes>"
      ]
     },
     "metadata": {},
     "output_type": "display_data"
    }
   ],
   "source": [
    "plt.figure(figsize=(8,5), dpi = 70)\n",
    "sns.distplot(dataset.totalratings, color = 'teal')\n",
    "plt.xlabel('Voters count', fontsize=13)\n",
    "plt.title('Voters count distribution',fontsize=15)\n",
    "plt.show()"
   ]
  },
  {
   "cell_type": "markdown",
   "metadata": {},
   "source": [
    "### Relación entre 'rating' y 'totalratings'"
   ]
  },
  {
   "cell_type": "code",
   "execution_count": 116,
   "metadata": {},
   "outputs": [
    {
     "data": {
      "text/plain": [
       "<seaborn.axisgrid.FacetGrid at 0x33d5a4500>"
      ]
     },
     "execution_count": 116,
     "metadata": {},
     "output_type": "execute_result"
    },
    {
     "data": {
      "image/png": "[encoded data removed]",
      "text/plain": [
       "<Figure size 500x500 with 1 Axes>"
      ]
     },
     "metadata": {},
     "output_type": "display_data"
    }
   ],
   "source": [
    "ax = sns.relplot(data=dataset, x=\"rating\", y=\"totalratings\", color = 'crimson', sizes=(100, 200), height=5, marker='o')\n",
    "plt.title(\"Relation between voters counts and rating\",fontsize = 15)\n",
    "ax.set_axis_labels(\"Rating\", \"Voters Count\")"
   ]
  },
  {
   "cell_type": "markdown",
   "metadata": {},
   "source": [
    "No se observa ninguna relación significativa entre el número de votos y la puntuación del libro."
   ]
  }
 ],
 "metadata": {
  "colab": {
   "provenance": []
  },
  "kernelspec": {
   "display_name": "MLMBD",
   "language": "python",
   "name": "python3"
  },
  "language_info": {
   "codemirror_mode": {
    "name": "ipython",
    "version": 3
   },
   "file_extension": ".py",
   "mimetype": "text/x-python",
   "name": "python",
   "nbconvert_exporter": "python",
   "pygments_lexer": "ipython3",
   "version": "3.12.7"
  }
 },
 "nbformat": 4,
 "nbformat_minor": 0
}
