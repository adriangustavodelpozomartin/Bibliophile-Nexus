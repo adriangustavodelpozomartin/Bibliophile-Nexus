{
 "cells": [
  {
   "cell_type": "markdown",
   "id": "64cceeac",
   "metadata": {},
   "source": [
    "---\n",
    "# 5. Clasificador"
   ]
  },
  {
   "cell_type": "markdown",
   "id": "cc1d318a",
   "metadata": {},
   "source": [
    "<div style=\"text-align: justify;\">\n",
    "\n",
    "En esta sección hemos desarrollado un clasificador de textos basado en redes neuronales. Partiendo de un dataset que ya habíamos limpiado y preprocesado en etapas anteriores, nos hemos centrado en la preparación del texto para abordar un problema de clasificación binaria, diferenciando entre libros de ficción y no ficción a partir de sus descripciones.\n",
    "\n",
    "Desde el inicio, transformamos las descripciones en secuencias de tokens mediante técnicas de tokenización y padding, lo que nos permitió homogeneizar la longitud de las entradas y limitar el vocabulario a las palabras más relevantes. Esta transformación es clave para poder alimentar de manera adecuada la red neuronal y garantizar que el modelo pueda aprender patrones significativos en el texto.\n",
    "\n",
    "La arquitectura elegida para el clasificador se basa en una red LSTM bidireccional. Hemos optado por esta arquitectura porque, tras haberla visto en clase, teníamos especial curiosidad por experimentar con ella. La capacidad de la LSTM para capturar dependencias a largo plazo en los datos secuenciales la hace particularmente atractiva para el análisis de descripciones literarias, ya que permite extraer patrones contextuales que pueden ser determinantes para diferenciar entre ficción y no ficción.\n",
    "\n",
    "Además, hemos incorporado técnicas de regularización como el Dropout y ajustado ciertos aspectos del entrenamiento, como la utilización de EarlyStopping y la aplicación de pesos de clase, para mitigar el riesgo de overfitting y manejar el desbalance de las clases en el dataset. Aunque no entramos ahora en detalles específicos de los parámetros, este enfoque nos ha permitido evaluar de forma efectiva la capacidad de generalización del modelo, comprobando su desempeño tanto en los conjuntos de entrenamiento como en los de validación y prueba.\n",
    "\n",
    "</div>"
   ]
  },
  {
   "cell_type": "markdown",
   "id": "2890e83b",
   "metadata": {},
   "source": [
    "---\n",
    "## 5.1. Carga de los datos\n",
    "\n",
    "Cargamos el dataset que fue previamente limpiado durante el análisis exploratorio de datos (EDA). Este conjunto ya incluye descripciones de libros procesadas en inglés, lo que nos permite centrarnos directamente en la preparación para el modelado.\n"
   ]
  },
  {
   "cell_type": "code",
   "execution_count": 4,
   "id": "ea052d8c",
   "metadata": {},
   "outputs": [],
   "source": [
    "import pandas as pd"
   ]
  },
  {
   "cell_type": "code",
   "execution_count": 5,
   "id": "65c07b7f",
   "metadata": {},
   "outputs": [],
   "source": [
    "dataset = pd.read_csv('datasets/clean_description_english.csv')"
   ]
  },
  {
   "cell_type": "code",
   "execution_count": 6,
   "id": "f010a689",
   "metadata": {},
   "outputs": [],
   "source": [
    "import pandas as pd\n",
    "\n",
    "import numpy as np\n",
    "\n",
    "from tensorflow.keras.preprocessing.text import Tokenizer\n",
    "\n",
    "from keras.preprocessing.sequence import pad_sequences\n",
    "\n",
    "from keras.models import Sequential\n",
    "\n",
    "from keras.layers import Embedding, SimpleRNN, Dense\n",
    "\n",
    "import matplotlib.pyplot as plt\n"
   ]
  },
  {
   "cell_type": "markdown",
   "id": "b0d9dc2b",
   "metadata": {},
   "source": [
    "---\n",
    "## 5.2. Mapeo de categorías: creación de la variable objetivo\n",
    "\n",
    "Creamos una función personalizada para transformar la columna 'genre' del dataset en una variable binaria que nos permita clasificar los libros como ficción (1) o no ficción (0). Esta transformación es crucial para poder abordar el problema como una clasificación binaria.\n"
   ]
  },
  {
   "cell_type": "code",
   "execution_count": 7,
   "id": "b6fef2fa",
   "metadata": {},
   "outputs": [],
   "source": [
    "def map_category(cat):\n",
    "    cat = str(cat).lower()\n",
    "    # Separamos los valores en tokens usando la coma como separador\n",
    "    tokens = [token.strip() for token in cat.split(',')]\n",
    "    # Si se encuentra la palabra \"nonfiction\" en alguno de los tokens, clasificamos como no ficción (0)\n",
    "    if any(\"nonfiction\" in token for token in tokens):\n",
    "        return 0\n",
    "    if any(\"non fiction\" in token for token in tokens):\n",
    "        return 0\n",
    "    # Si no se encontró \"nonfiction\" y aparece \"fiction\", clasificamos como ficción (1)\n",
    "    if any(\"fiction\" in token for token in tokens):\n",
    "        return 1\n",
    "    # En caso contrario, por defecto se clasifica como no ficción (0)\n",
    "    return 0\n",
    " \n",
    "# Aplicamos la función de mapeo a la columna 'column4'\n",
    "\n",
    "dataset['label'] = dataset['genre'].apply(map_category)\n"
   ]
  },
  {
   "cell_type": "markdown",
   "id": "d6830313",
   "metadata": {},
   "source": [
    "---\n",
    "## 5.3. Preprocesamiento del texto\n",
    "\n",
    "Procedemos a la tokenización y el padding de las descripciones para preparar los datos de entrada para la red neuronal. Limitamos el vocabulario a las 10.000 palabras más frecuentes y unificamos la longitud de las secuencias a 500 tokens para mantener consistencia en la entrada del modelo.\n"
   ]
  },
  {
   "cell_type": "code",
   "execution_count": 8,
   "id": "155bf696",
   "metadata": {},
   "outputs": [
    {
     "name": "stdout",
     "output_type": "stream",
     "text": [
      "Forma de las secuencias procesadas: (17452, 500)\n"
     ]
    }
   ],
   "source": [
    "import numpy as np\n",
    "import pandas as pd\n",
    "import matplotlib.pyplot as plt\n",
    " \n",
    "from tensorflow.keras.preprocessing.text import Tokenizer\n",
    "from keras.preprocessing.sequence import pad_sequences\n",
    "from keras.models import Sequential\n",
    "from keras.layers import Embedding, Dense, LSTM, Dropout, Bidirectional\n",
    "from keras.callbacks import EarlyStopping\n",
    "from tensorflow.keras.optimizers import Adam  # Importar Adam con opción de LR personalizada\n",
    "from sklearn.model_selection import train_test_split\n",
    "from sklearn.utils.class_weight import compute_class_weight\n",
    " \n",
    "\n",
    " \n",
    "texts = dataset['clean_description'].fillna(\"\").tolist()\n",
    "labels = dataset['label'].values\n",
    " \n",
    "# Tokenización y Padding\n",
    "max_features = 10000  # Número máximo de palabras a considerar\n",
    "tokenizer = Tokenizer(num_words=max_features)\n",
    "tokenizer.fit_on_texts(texts)\n",
    "sequences = tokenizer.texts_to_sequences(texts)\n",
    "maxlen = 500  # Longitud máxima de cada secuencia\n",
    "data = pad_sequences(sequences, maxlen=maxlen)\n",
    "print(\"Forma de las secuencias procesadas:\", data.shape)"
   ]
  },
  {
   "cell_type": "markdown",
   "id": "f9389610",
   "metadata": {},
   "source": [
    "---\n",
    "## 5.4. Modelo de clasificación\n",
    "\n"
   ]
  },
  {
   "cell_type": "markdown",
   "id": "dd8ab543",
   "metadata": {},
   "source": [
    "Dividimos el dataset en un 80% para entrenamiento y un 20% para prueba, asegurando que la distribución de clases se mantenga mediante estratificación. Además, calculamos los pesos de las clases para mitigar el desbalance y ayudar al modelo a aprender de manera más equitativa."
   ]
  },
  {
   "cell_type": "code",
   "execution_count": 9,
   "id": "16c32902",
   "metadata": {},
   "outputs": [
    {
     "name": "stdout",
     "output_type": "stream",
     "text": [
      "Tamaño del train: (13961, 500) Tamaño del test: (3491, 500)\n",
      "Pesos de clases: {0: 1.8206833594157539, 1: 0.6892959415424114}\n"
     ]
    }
   ],
   "source": [
    "\n",
    "# --------------------------------------------------------------------------------\n",
    "# División del dataset (Entrenamiento y Prueba) con estratificación\n",
    "# --------------------------------------------------------------------------------\n",
    " \n",
    "X_train, X_test, y_train, y_test = train_test_split(\n",
    "    data, labels, test_size=0.2, random_state=42, stratify=labels\n",
    ")\n",
    "print(\"Tamaño del train:\", X_train.shape, \"Tamaño del test:\", X_test.shape)\n",
    " \n",
    "# --------------------------------------------------------------------------------\n",
    "# Cálculo de los pesos de clases para compensar el desbalance\n",
    "# --------------------------------------------------------------------------------\n",
    " \n",
    "clases = np.unique(y_train)\n",
    "pesos = compute_class_weight(class_weight='balanced', classes=clases, y=y_train)\n",
    "class_weights = {i: peso for i, peso in zip(clases, pesos)}\n",
    "print(\"Pesos de clases:\", class_weights)"
   ]
  },
  {
   "cell_type": "markdown",
   "id": "0c891674",
   "metadata": {},
   "source": [
    "### Definición de la arquitectura del modelo\n",
    "\n",
    "Definimos una red neuronal secuencial con las siguientes capas:\n",
    "- Capa de Embedding para representar las palabras en vectores densos.\n",
    "- Dropout del 30% para reducir el sobreajuste.\n",
    "- Capa LSTM bidireccional para capturar dependencias contextuales en ambas direcciones del texto, también con dropout.\n",
    "- Capa densa final con activación sigmoide para realizar la clasificación binaria.\n",
    "\n",
    "Optamos por una tasa de aprendizaje baja (`1e-4`) utilizando el optimizador Adam, buscando una convergencia más estable durante el entrenamiento.\n",
    "\n",
    "### Configuración de Early Stopping\n",
    "\n",
    "Configuramos una estrategia de parada temprana para detener el entrenamiento si la pérdida de validación no mejora después de 4 épocas consecutivas. Esto nos ayuda a prevenir el sobreajuste y optimizar el uso de recursos computacionales.\n",
    "\n",
    "### Entrenamiento del modelo\n",
    "\n",
    "Entrenamos el modelo con:\n",
    "- Un máximo de 20 épocas.\n",
    "- Batch size reducido a 64 para actualizaciones de gradiente más frecuentes.\n",
    "- Validación interna del 20% del conjunto de entrenamiento.\n",
    "- Aplicación de pesos de clase calculados previamente.\n",
    "\n",
    "Este enfoque nos permite encontrar un buen equilibrio entre rendimiento y generalización del modelo.\n",
    "\n",
    "### Evaluación del modelo\n",
    "\n",
    "Evaluamos el modelo en el conjunto de prueba separado para obtener métricas finales de rendimiento. Esto nos permite tener una visión honesta del comportamiento del modelo sobre datos no vistos.\n",
    "\n",
    "### Visualización de métricas de entrenamiento\n",
    "\n",
    "Graficamos la evolución de la precisión y la pérdida durante las épocas de entrenamiento y validación. Esta visualización nos ayuda a comprender el comportamiento del modelo y a identificar posibles síntomas de sobreajuste o bajoajuste.\n"
   ]
  },
  {
   "cell_type": "code",
   "execution_count": 10,
   "id": "eaf963a0",
   "metadata": {},
   "outputs": [
    {
     "name": "stderr",
     "output_type": "stream",
     "text": [
      "c:\\Users\\ruben\\anaconda3\\envs\\MLMBD\\Lib\\site-packages\\keras\\src\\layers\\core\\embedding.py:90: UserWarning: Argument `input_length` is deprecated. Just remove it.\n",
      "  warnings.warn(\n"
     ]
    },
    {
     "data": {
      "text/html": [
       "<pre style=\"white-space:pre;overflow-x:auto;line-height:normal;font-family:Menlo,'DejaVu Sans Mono',consolas,'Courier New',monospace\"><span style=\"font-weight: bold\">Model: \"sequential\"</span>\n",
       "</pre>\n"
      ],
      "text/plain": [
       "\u001b[1mModel: \"sequential\"\u001b[0m\n"
      ]
     },
     "metadata": {},
     "output_type": "display_data"
    },
    {
     "data": {
      "text/html": [
       "<pre style=\"white-space:pre;overflow-x:auto;line-height:normal;font-family:Menlo,'DejaVu Sans Mono',consolas,'Courier New',monospace\">┏━━━━━━━━━━━━━━━━━━━━━━━━━━━━━━━━━┳━━━━━━━━━━━━━━━━━━━━━━━━┳━━━━━━━━━━━━━━━┓\n",
       "┃<span style=\"font-weight: bold\"> Layer (type)                    </span>┃<span style=\"font-weight: bold\"> Output Shape           </span>┃<span style=\"font-weight: bold\">       Param # </span>┃\n",
       "┡━━━━━━━━━━━━━━━━━━━━━━━━━━━━━━━━━╇━━━━━━━━━━━━━━━━━━━━━━━━╇━━━━━━━━━━━━━━━┩\n",
       "│ embedding (<span style=\"color: #0087ff; text-decoration-color: #0087ff\">Embedding</span>)           │ ?                      │   <span style=\"color: #00af00; text-decoration-color: #00af00\">0</span> (unbuilt) │\n",
       "├─────────────────────────────────┼────────────────────────┼───────────────┤\n",
       "│ dropout (<span style=\"color: #0087ff; text-decoration-color: #0087ff\">Dropout</span>)               │ ?                      │             <span style=\"color: #00af00; text-decoration-color: #00af00\">0</span> │\n",
       "├─────────────────────────────────┼────────────────────────┼───────────────┤\n",
       "│ bidirectional (<span style=\"color: #0087ff; text-decoration-color: #0087ff\">Bidirectional</span>)   │ ?                      │   <span style=\"color: #00af00; text-decoration-color: #00af00\">0</span> (unbuilt) │\n",
       "├─────────────────────────────────┼────────────────────────┼───────────────┤\n",
       "│ dense (<span style=\"color: #0087ff; text-decoration-color: #0087ff\">Dense</span>)                   │ ?                      │   <span style=\"color: #00af00; text-decoration-color: #00af00\">0</span> (unbuilt) │\n",
       "└─────────────────────────────────┴────────────────────────┴───────────────┘\n",
       "</pre>\n"
      ],
      "text/plain": [
       "┏━━━━━━━━━━━━━━━━━━━━━━━━━━━━━━━━━┳━━━━━━━━━━━━━━━━━━━━━━━━┳━━━━━━━━━━━━━━━┓\n",
       "┃\u001b[1m \u001b[0m\u001b[1mLayer (type)                   \u001b[0m\u001b[1m \u001b[0m┃\u001b[1m \u001b[0m\u001b[1mOutput Shape          \u001b[0m\u001b[1m \u001b[0m┃\u001b[1m \u001b[0m\u001b[1m      Param #\u001b[0m\u001b[1m \u001b[0m┃\n",
       "┡━━━━━━━━━━━━━━━━━━━━━━━━━━━━━━━━━╇━━━━━━━━━━━━━━━━━━━━━━━━╇━━━━━━━━━━━━━━━┩\n",
       "│ embedding (\u001b[38;5;33mEmbedding\u001b[0m)           │ ?                      │   \u001b[38;5;34m0\u001b[0m (unbuilt) │\n",
       "├─────────────────────────────────┼────────────────────────┼───────────────┤\n",
       "│ dropout (\u001b[38;5;33mDropout\u001b[0m)               │ ?                      │             \u001b[38;5;34m0\u001b[0m │\n",
       "├─────────────────────────────────┼────────────────────────┼───────────────┤\n",
       "│ bidirectional (\u001b[38;5;33mBidirectional\u001b[0m)   │ ?                      │   \u001b[38;5;34m0\u001b[0m (unbuilt) │\n",
       "├─────────────────────────────────┼────────────────────────┼───────────────┤\n",
       "│ dense (\u001b[38;5;33mDense\u001b[0m)                   │ ?                      │   \u001b[38;5;34m0\u001b[0m (unbuilt) │\n",
       "└─────────────────────────────────┴────────────────────────┴───────────────┘\n"
      ]
     },
     "metadata": {},
     "output_type": "display_data"
    },
    {
     "data": {
      "text/html": [
       "<pre style=\"white-space:pre;overflow-x:auto;line-height:normal;font-family:Menlo,'DejaVu Sans Mono',consolas,'Courier New',monospace\"><span style=\"font-weight: bold\"> Total params: </span><span style=\"color: #00af00; text-decoration-color: #00af00\">0</span> (0.00 B)\n",
       "</pre>\n"
      ],
      "text/plain": [
       "\u001b[1m Total params: \u001b[0m\u001b[38;5;34m0\u001b[0m (0.00 B)\n"
      ]
     },
     "metadata": {},
     "output_type": "display_data"
    },
    {
     "data": {
      "text/html": [
       "<pre style=\"white-space:pre;overflow-x:auto;line-height:normal;font-family:Menlo,'DejaVu Sans Mono',consolas,'Courier New',monospace\"><span style=\"font-weight: bold\"> Trainable params: </span><span style=\"color: #00af00; text-decoration-color: #00af00\">0</span> (0.00 B)\n",
       "</pre>\n"
      ],
      "text/plain": [
       "\u001b[1m Trainable params: \u001b[0m\u001b[38;5;34m0\u001b[0m (0.00 B)\n"
      ]
     },
     "metadata": {},
     "output_type": "display_data"
    },
    {
     "data": {
      "text/html": [
       "<pre style=\"white-space:pre;overflow-x:auto;line-height:normal;font-family:Menlo,'DejaVu Sans Mono',consolas,'Courier New',monospace\"><span style=\"font-weight: bold\"> Non-trainable params: </span><span style=\"color: #00af00; text-decoration-color: #00af00\">0</span> (0.00 B)\n",
       "</pre>\n"
      ],
      "text/plain": [
       "\u001b[1m Non-trainable params: \u001b[0m\u001b[38;5;34m0\u001b[0m (0.00 B)\n"
      ]
     },
     "metadata": {},
     "output_type": "display_data"
    },
    {
     "name": "stdout",
     "output_type": "stream",
     "text": [
      "Epoch 1/20\n",
      "\u001b[1m175/175\u001b[0m \u001b[32m━━━━━━━━━━━━━━━━━━━━\u001b[0m\u001b[37m\u001b[0m \u001b[1m111s\u001b[0m 588ms/step - acc: 0.4794 - loss: 0.6914 - val_acc: 0.7103 - val_loss: 0.6891\n",
      "Epoch 2/20\n",
      "\u001b[1m175/175\u001b[0m \u001b[32m━━━━━━━━━━━━━━━━━━━━\u001b[0m\u001b[37m\u001b[0m \u001b[1m99s\u001b[0m 563ms/step - acc: 0.6763 - loss: 0.6891 - val_acc: 0.6248 - val_loss: 0.6835\n",
      "Epoch 3/20\n",
      "\u001b[1m175/175\u001b[0m \u001b[32m━━━━━━━━━━━━━━━━━━━━\u001b[0m\u001b[37m\u001b[0m \u001b[1m100s\u001b[0m 571ms/step - acc: 0.6672 - loss: 0.6554 - val_acc: 0.7898 - val_loss: 0.5665\n",
      "Epoch 4/20\n",
      "\u001b[1m175/175\u001b[0m \u001b[32m━━━━━━━━━━━━━━━━━━━━\u001b[0m\u001b[37m\u001b[0m \u001b[1m95s\u001b[0m 545ms/step - acc: 0.7720 - loss: 0.5636 - val_acc: 0.7683 - val_loss: 0.6272\n",
      "Epoch 5/20\n",
      "\u001b[1m175/175\u001b[0m \u001b[32m━━━━━━━━━━━━━━━━━━━━\u001b[0m\u001b[37m\u001b[0m \u001b[1m93s\u001b[0m 532ms/step - acc: 0.8205 - loss: 0.5131 - val_acc: 0.8281 - val_loss: 0.5466\n",
      "Epoch 6/20\n",
      "\u001b[1m175/175\u001b[0m \u001b[32m━━━━━━━━━━━━━━━━━━━━\u001b[0m\u001b[37m\u001b[0m \u001b[1m91s\u001b[0m 522ms/step - acc: 0.8573 - loss: 0.4661 - val_acc: 0.8453 - val_loss: 0.5123\n",
      "Epoch 7/20\n",
      "\u001b[1m175/175\u001b[0m \u001b[32m━━━━━━━━━━━━━━━━━━━━\u001b[0m\u001b[37m\u001b[0m \u001b[1m89s\u001b[0m 508ms/step - acc: 0.8611 - loss: 0.4557 - val_acc: 0.8453 - val_loss: 0.4906\n",
      "Epoch 8/20\n",
      "\u001b[1m175/175\u001b[0m \u001b[32m━━━━━━━━━━━━━━━━━━━━\u001b[0m\u001b[37m\u001b[0m \u001b[1m92s\u001b[0m 528ms/step - acc: 0.8733 - loss: 0.4328 - val_acc: 0.8622 - val_loss: 0.4739\n",
      "Epoch 9/20\n",
      "\u001b[1m175/175\u001b[0m \u001b[32m━━━━━━━━━━━━━━━━━━━━\u001b[0m\u001b[37m\u001b[0m \u001b[1m91s\u001b[0m 519ms/step - acc: 0.8777 - loss: 0.4279 - val_acc: 0.8528 - val_loss: 0.5020\n",
      "Epoch 10/20\n",
      "\u001b[1m175/175\u001b[0m \u001b[32m━━━━━━━━━━━━━━━━━━━━\u001b[0m\u001b[37m\u001b[0m \u001b[1m91s\u001b[0m 521ms/step - acc: 0.8654 - loss: 0.4356 - val_acc: 0.8489 - val_loss: 0.4874\n",
      "Epoch 11/20\n",
      "\u001b[1m175/175\u001b[0m \u001b[32m━━━━━━━━━━━━━━━━━━━━\u001b[0m\u001b[37m\u001b[0m \u001b[1m89s\u001b[0m 512ms/step - acc: 0.8592 - loss: 0.4431 - val_acc: 0.8525 - val_loss: 0.4790\n",
      "Epoch 12/20\n",
      "\u001b[1m175/175\u001b[0m \u001b[32m━━━━━━━━━━━━━━━━━━━━\u001b[0m\u001b[37m\u001b[0m \u001b[1m95s\u001b[0m 544ms/step - acc: 0.8781 - loss: 0.4103 - val_acc: 0.8521 - val_loss: 0.4731\n",
      "Epoch 13/20\n",
      "\u001b[1m175/175\u001b[0m \u001b[32m━━━━━━━━━━━━━━━━━━━━\u001b[0m\u001b[37m\u001b[0m \u001b[1m98s\u001b[0m 557ms/step - acc: 0.8846 - loss: 0.3981 - val_acc: 0.8636 - val_loss: 0.4563\n",
      "Epoch 14/20\n",
      "\u001b[1m175/175\u001b[0m \u001b[32m━━━━━━━━━━━━━━━━━━━━\u001b[0m\u001b[37m\u001b[0m \u001b[1m96s\u001b[0m 550ms/step - acc: 0.8991 - loss: 0.3746 - val_acc: 0.8604 - val_loss: 0.4718\n",
      "Epoch 15/20\n",
      "\u001b[1m175/175\u001b[0m \u001b[32m━━━━━━━━━━━━━━━━━━━━\u001b[0m\u001b[37m\u001b[0m \u001b[1m98s\u001b[0m 558ms/step - acc: 0.8885 - loss: 0.3874 - val_acc: 0.8754 - val_loss: 0.4391\n",
      "Epoch 16/20\n",
      "\u001b[1m175/175\u001b[0m \u001b[32m━━━━━━━━━━━━━━━━━━━━\u001b[0m\u001b[37m\u001b[0m \u001b[1m99s\u001b[0m 566ms/step - acc: 0.8963 - loss: 0.3787 - val_acc: 0.8668 - val_loss: 0.4482\n",
      "Epoch 17/20\n",
      "\u001b[1m175/175\u001b[0m \u001b[32m━━━━━━━━━━━━━━━━━━━━\u001b[0m\u001b[37m\u001b[0m \u001b[1m96s\u001b[0m 551ms/step - acc: 0.8981 - loss: 0.3656 - val_acc: 0.8682 - val_loss: 0.4490\n",
      "Epoch 18/20\n",
      "\u001b[1m175/175\u001b[0m \u001b[32m━━━━━━━━━━━━━━━━━━━━\u001b[0m\u001b[37m\u001b[0m \u001b[1m98s\u001b[0m 562ms/step - acc: 0.9011 - loss: 0.3647 - val_acc: 0.8582 - val_loss: 0.4915\n",
      "Epoch 19/20\n",
      "\u001b[1m175/175\u001b[0m \u001b[32m━━━━━━━━━━━━━━━━━━━━\u001b[0m\u001b[37m\u001b[0m \u001b[1m98s\u001b[0m 559ms/step - acc: 0.8975 - loss: 0.3824 - val_acc: 0.8801 - val_loss: 0.4233\n",
      "Epoch 20/20\n",
      "\u001b[1m175/175\u001b[0m \u001b[32m━━━━━━━━━━━━━━━━━━━━\u001b[0m\u001b[37m\u001b[0m \u001b[1m92s\u001b[0m 526ms/step - acc: 0.8915 - loss: 0.3965 - val_acc: 0.8711 - val_loss: 0.4618\n",
      "\n",
      "Pérdida en Test: 0.4272\n",
      "Precisión en Test: 0.8826\n"
     ]
    },
    {
     "data": {
      "image/png": "[encoded data removed]",
      "text/plain": [
       "<Figure size 1200x500 with 2 Axes>"
      ]
     },
     "metadata": {},
     "output_type": "display_data"
    }
   ],
   "source": [
    "# --------------------------------------------------------------------------------\n",
    "# Definición del modelo con mayor regularización y tasa de aprendizaje reducida\n",
    "# --------------------------------------------------------------------------------\n",
    " \n",
    "model = Sequential()\n",
    "model.add(Embedding(max_features, 32, input_length=maxlen))\n",
    "model.add(Dropout(0.3))  # Dropout incrementado (de 0.1 a 0.3)\n",
    "model.add(Bidirectional(LSTM(32, dropout=0.3, recurrent_dropout=0.3)))  # Dropout incrementado en la LSTM\n",
    "model.add(Dense(1, activation='sigmoid'))\n",
    "model.summary()\n",
    " \n",
    "# Compilar el modelo utilizando Adam con una tasa de aprendizaje más baja\n",
    "model.compile(\n",
    "    optimizer=Adam(learning_rate=1e-4),  # LR reducido para un aprendizaje más estable\n",
    "    loss='binary_crossentropy',\n",
    "    metrics=['acc']\n",
    ")\n",
    "\n",
    "# --------------------------------------------------------------------------------\n",
    "# EarlyStopping para detener el entrenamiento si no hay mejora en la validación\n",
    "# --------------------------------------------------------------------------------\n",
    " \n",
    "early_stop = EarlyStopping(monitor='val_loss', patience=4, restore_best_weights=True)\n",
    " \n",
    "# --------------------------------------------------------------------------------\n",
    "# Entrenamiento del modelo\n",
    "# --------------------------------------------------------------------------------\n",
    " \n",
    "history = model.fit(\n",
    "    X_train,\n",
    "    y_train,\n",
    "    epochs=20,            # Se permite más cantidad de épocas\n",
    "    batch_size=64,        # Batch size reducido para actualizaciones más frecuentes\n",
    "    validation_split=0.2,\n",
    "    callbacks=[early_stop],\n",
    "    class_weight=class_weights\n",
    ")\n",
    " \n",
    "# --------------------------------------------------------------------------------\n",
    "# Evaluación en el conjunto de prueba\n",
    "# --------------------------------------------------------------------------------\n",
    " \n",
    "score = model.evaluate(X_test, y_test, verbose=0)\n",
    "print(f\"\\nPérdida en Test: {score[0]:.4f}\")\n",
    "print(f\"Precisión en Test: {score[1]:.4f}\")\n",
    " \n",
    "# --------------------------------------------------------------------------------\n",
    "# Visualización de la Precisión y Pérdida durante el Entrenamiento y Validación\n",
    "# --------------------------------------------------------------------------------\n",
    " \n",
    "acc = history.history['acc']\n",
    "val_acc = history.history['val_acc']\n",
    "loss = history.history['loss']\n",
    "val_loss = history.history['val_loss']\n",
    "epochs_range = range(len(acc))\n",
    " \n",
    "plt.figure(figsize=(12, 5))\n",
    " \n",
    "plt.subplot(1, 2, 1)\n",
    "plt.plot(epochs_range, acc, 'bo-', label='Entrenamiento')\n",
    "plt.plot(epochs_range, val_acc, 'b-', label='Validación')\n",
    "plt.title('Precisión Entrenamiento vs. Validación')\n",
    "plt.legend()\n",
    " \n",
    "plt.subplot(1, 2, 2)  \n",
    "plt.plot(epochs_range, loss, 'bo-', label='Entrenamiento')\n",
    "plt.plot(epochs_range, val_loss, 'b-', label='Validación')\n",
    "plt.title('Pérdida Entrenamiento vs. Validación')\n",
    "plt.legend()\n",
    " \n",
    "plt.show()\n",
    " \n",
    " "
   ]
  },
  {
   "cell_type": "code",
   "execution_count": 11,
   "id": "825bc4d4",
   "metadata": {},
   "outputs": [
    {
     "name": "stderr",
     "output_type": "stream",
     "text": [
      "WARNING:absl:You are saving your model as an HDF5 file via `model.save()` or `keras.saving.save_model(model)`. This file format is considered legacy. We recommend using instead the native Keras format, e.g. `model.save('my_model.keras')` or `keras.saving.save_model(model, 'my_model.keras')`. \n"
     ]
    }
   ],
   "source": [
    "model.save(\"modelos/LSTM_clasificador.h5\")"
   ]
  },
  {
   "cell_type": "code",
   "execution_count": 12,
   "id": "5d4f4efb",
   "metadata": {},
   "outputs": [],
   "source": [
    "# Guardar el tokenizer\n",
    "import pickle\n",
    "with open('modelos/tokenizer.pkl', 'wb') as handle:\n",
    "    pickle.dump(tokenizer, handle, protocol=pickle.HIGHEST_PROTOCOL)"
   ]
  },
  {
   "cell_type": "code",
   "execution_count": 13,
   "id": "4a80145c",
   "metadata": {},
   "outputs": [],
   "source": [
    "# # Cargar el modelo guardado\n",
    "# modelo_cargado = load_model(\"modelo_rnn_ficcion_no_ficcion.h5\")"
   ]
  },
  {
   "cell_type": "markdown",
   "id": "7c4b9005",
   "metadata": {},
   "source": [
    "### Función de predicción con nueva descripción\n",
    "\n",
    "Definimos una función que permite realizar predicciones sobre nuevas descripciones de libros, utilizando el modelo y el tokenizer guardados. Esto nos facilita la integración del modelo en aplicaciones del mundo real.\n"
   ]
  },
  {
   "cell_type": "code",
   "execution_count": 14,
   "id": "c71d285a",
   "metadata": {},
   "outputs": [],
   "source": [
    "# Función para predecir usando la descripción del libro\n",
    "def predecir_descripcion(descripcion):\n",
    "    # Convertir la descripción a secuencia de tokens\n",
    "    secuencia = tokenizer.texts_to_sequences([descripcion])\n",
    "    # Aplicar padding\n",
    "    secuencia_padded = pad_sequences(secuencia, maxlen=500)\n",
    "    # Hacer la predicción\n",
    "    prediccion = model.predict(secuencia_padded)[0][0]\n",
    "    # Interpretar la salida\n",
    "    if prediccion >= 0.5:\n",
    "        return f\"Ficción ({prediccion:.2f})\"\n",
    "    else:\n",
    "        return f\"No ficción ({prediccion:.2f})\"\n"
   ]
  },
  {
   "cell_type": "markdown",
   "id": "a41c1a62",
   "metadata": {},
   "source": [
    "### Ejemplo de predicción\n",
    "\n",
    "Probamos la función de predicción utilizando una descripción de ejemplo para verificar que el flujo completo desde la entrada del usuario hasta la predicción final funciona correctamente.\n"
   ]
  },
  {
   "cell_type": "code",
   "execution_count": 15,
   "id": "e4116dc7",
   "metadata": {},
   "outputs": [
    {
     "name": "stdout",
     "output_type": "stream",
     "text": [
      "\u001b[1m1/1\u001b[0m \u001b[32m━━━━━━━━━━━━━━━━━━━━\u001b[0m\u001b[37m\u001b[0m \u001b[1m1s\u001b[0m 767ms/step\n",
      "Resultado: Ficción (0.85)\n"
     ]
    }
   ],
   "source": [
    "\n",
    "# Ejemplo de uso\n",
    "descripcion_libro = \"\"\"\n",
    "In the summer of 1878, Sherlock Holmes and Dr. Watson solve a mysterious case of a secret society.\n",
    "\"\"\"\n",
    "resultado = predecir_descripcion(descripcion_libro)\n",
    "print(\"Resultado:\", resultado)"
   ]
  },
  {
   "cell_type": "markdown",
   "id": "44726819",
   "metadata": {},
   "source": [
    "---\n",
    "## 5.5. Pruebas"
   ]
  },
  {
   "cell_type": "markdown",
   "id": "8ddf74aa",
   "metadata": {},
   "source": [
    "\n",
    "### 5.5.1 Bidirectional LSTM con `train_test_split`\n",
    "\n",
    "#### Descripción:\n",
    "Este modelo utiliza una arquitectura sencilla pero efectiva de Bidirectional LSTM.  \n",
    "- **Preprocesamiento:**  \n",
    "  - Tokenización de los textos con un vocabulario máximo de 10,000 palabras.\n",
    "  - Secuencias normalizadas a una longitud máxima de 500 tokens.\n",
    "  - Uso de `train_test_split` con estratificación para mantener la proporción de clases en train y test.\n",
    "- **Modelo:**  \n",
    "  - Capa de Embedding de 32 dimensiones.\n",
    "  - Capa Bidirectional LSTM con 32 unidades, regularizada con `dropout=0.1` y `recurrent_dropout=0.1`.\n",
    "  - Capa densa de salida con activación sigmoide.\n",
    "- **Entrenamiento:**  \n",
    "  - Uso de pesos de clase (`class_weight`) para manejar el desbalanceo.\n",
    "  - EarlyStopping con paciencia de 3 para prevenir overfitting.\n",
    "  - Entrenamiento durante hasta 10 épocas, batch size de 128.\n",
    "\n",
    "#### Por qué no se selecciona:\n",
    "- **Overfitting detectado:**  \n",
    "  Claros indicios de overfitting tras pocas épocas, con una diferencia evidente entre la precisión de entrenamiento y validación.\n",
    "- **Rendimiento moderado:**  \n",
    "  Aunque la precisión en train es alta, la precisión en test no mejora sustancialmente frente a enfoques más simples.\n",
    "- **Clase minoritaria mal resuelta:**  \n",
    "  A pesar de aplicar `class_weight`, las predicciones sobre la clase menos representada siguen siendo flojas.\n",
    "- **Coste computacional elevado:**  \n",
    "  El modelo requiere un tiempo de entrenamiento considerable en comparación con su desempeño final."
   ]
  },
  {
   "cell_type": "code",
   "execution_count": null,
   "id": "6444facf",
   "metadata": {},
   "outputs": [
    {
     "name": "stdout",
     "output_type": "stream",
     "text": [
      "Forma de las secuencias procesadas: (17452, 500)\n",
      "Tamaño del train: (8726, 500) Tamaño del test: (8726, 500)\n",
      "Pesos de clases: {0: 1.8217118997912318, 1: 0.6891486337071553}\n"
     ]
    },
    {
     "name": "stderr",
     "output_type": "stream",
     "text": [
      "c:\\Users\\ruben\\anaconda3\\envs\\MLMBD\\Lib\\site-packages\\keras\\src\\layers\\core\\embedding.py:90: UserWarning: Argument `input_length` is deprecated. Just remove it.\n",
      "  warnings.warn(\n"
     ]
    },
    {
     "data": {
      "text/html": [
       "<pre style=\"white-space:pre;overflow-x:auto;line-height:normal;font-family:Menlo,'DejaVu Sans Mono',consolas,'Courier New',monospace\"><span style=\"font-weight: bold\">Model: \"sequential_4\"</span>\n",
       "</pre>\n"
      ],
      "text/plain": [
       "\u001b[1mModel: \"sequential_4\"\u001b[0m\n"
      ]
     },
     "metadata": {},
     "output_type": "display_data"
    },
    {
     "data": {
      "text/html": [
       "<pre style=\"white-space:pre;overflow-x:auto;line-height:normal;font-family:Menlo,'DejaVu Sans Mono',consolas,'Courier New',monospace\">┏━━━━━━━━━━━━━━━━━━━━━━━━━━━━━━━━━┳━━━━━━━━━━━━━━━━━━━━━━━━┳━━━━━━━━━━━━━━━┓\n",
       "┃<span style=\"font-weight: bold\"> Layer (type)                    </span>┃<span style=\"font-weight: bold\"> Output Shape           </span>┃<span style=\"font-weight: bold\">       Param # </span>┃\n",
       "┡━━━━━━━━━━━━━━━━━━━━━━━━━━━━━━━━━╇━━━━━━━━━━━━━━━━━━━━━━━━╇━━━━━━━━━━━━━━━┩\n",
       "│ embedding_4 (<span style=\"color: #0087ff; text-decoration-color: #0087ff\">Embedding</span>)         │ ?                      │   <span style=\"color: #00af00; text-decoration-color: #00af00\">0</span> (unbuilt) │\n",
       "├─────────────────────────────────┼────────────────────────┼───────────────┤\n",
       "│ dropout_4 (<span style=\"color: #0087ff; text-decoration-color: #0087ff\">Dropout</span>)             │ ?                      │             <span style=\"color: #00af00; text-decoration-color: #00af00\">0</span> │\n",
       "├─────────────────────────────────┼────────────────────────┼───────────────┤\n",
       "│ bidirectional_3 (<span style=\"color: #0087ff; text-decoration-color: #0087ff\">Bidirectional</span>) │ ?                      │   <span style=\"color: #00af00; text-decoration-color: #00af00\">0</span> (unbuilt) │\n",
       "├─────────────────────────────────┼────────────────────────┼───────────────┤\n",
       "│ dense_3 (<span style=\"color: #0087ff; text-decoration-color: #0087ff\">Dense</span>)                 │ ?                      │   <span style=\"color: #00af00; text-decoration-color: #00af00\">0</span> (unbuilt) │\n",
       "└─────────────────────────────────┴────────────────────────┴───────────────┘\n",
       "</pre>\n"
      ],
      "text/plain": [
       "┏━━━━━━━━━━━━━━━━━━━━━━━━━━━━━━━━━┳━━━━━━━━━━━━━━━━━━━━━━━━┳━━━━━━━━━━━━━━━┓\n",
       "┃\u001b[1m \u001b[0m\u001b[1mLayer (type)                   \u001b[0m\u001b[1m \u001b[0m┃\u001b[1m \u001b[0m\u001b[1mOutput Shape          \u001b[0m\u001b[1m \u001b[0m┃\u001b[1m \u001b[0m\u001b[1m      Param #\u001b[0m\u001b[1m \u001b[0m┃\n",
       "┡━━━━━━━━━━━━━━━━━━━━━━━━━━━━━━━━━╇━━━━━━━━━━━━━━━━━━━━━━━━╇━━━━━━━━━━━━━━━┩\n",
       "│ embedding_4 (\u001b[38;5;33mEmbedding\u001b[0m)         │ ?                      │   \u001b[38;5;34m0\u001b[0m (unbuilt) │\n",
       "├─────────────────────────────────┼────────────────────────┼───────────────┤\n",
       "│ dropout_4 (\u001b[38;5;33mDropout\u001b[0m)             │ ?                      │             \u001b[38;5;34m0\u001b[0m │\n",
       "├─────────────────────────────────┼────────────────────────┼───────────────┤\n",
       "│ bidirectional_3 (\u001b[38;5;33mBidirectional\u001b[0m) │ ?                      │   \u001b[38;5;34m0\u001b[0m (unbuilt) │\n",
       "├─────────────────────────────────┼────────────────────────┼───────────────┤\n",
       "│ dense_3 (\u001b[38;5;33mDense\u001b[0m)                 │ ?                      │   \u001b[38;5;34m0\u001b[0m (unbuilt) │\n",
       "└─────────────────────────────────┴────────────────────────┴───────────────┘\n"
      ]
     },
     "metadata": {},
     "output_type": "display_data"
    },
    {
     "data": {
      "text/html": [
       "<pre style=\"white-space:pre;overflow-x:auto;line-height:normal;font-family:Menlo,'DejaVu Sans Mono',consolas,'Courier New',monospace\"><span style=\"font-weight: bold\"> Total params: </span><span style=\"color: #00af00; text-decoration-color: #00af00\">0</span> (0.00 B)\n",
       "</pre>\n"
      ],
      "text/plain": [
       "\u001b[1m Total params: \u001b[0m\u001b[38;5;34m0\u001b[0m (0.00 B)\n"
      ]
     },
     "metadata": {},
     "output_type": "display_data"
    },
    {
     "data": {
      "text/html": [
       "<pre style=\"white-space:pre;overflow-x:auto;line-height:normal;font-family:Menlo,'DejaVu Sans Mono',consolas,'Courier New',monospace\"><span style=\"font-weight: bold\"> Trainable params: </span><span style=\"color: #00af00; text-decoration-color: #00af00\">0</span> (0.00 B)\n",
       "</pre>\n"
      ],
      "text/plain": [
       "\u001b[1m Trainable params: \u001b[0m\u001b[38;5;34m0\u001b[0m (0.00 B)\n"
      ]
     },
     "metadata": {},
     "output_type": "display_data"
    },
    {
     "data": {
      "text/html": [
       "<pre style=\"white-space:pre;overflow-x:auto;line-height:normal;font-family:Menlo,'DejaVu Sans Mono',consolas,'Courier New',monospace\"><span style=\"font-weight: bold\"> Non-trainable params: </span><span style=\"color: #00af00; text-decoration-color: #00af00\">0</span> (0.00 B)\n",
       "</pre>\n"
      ],
      "text/plain": [
       "\u001b[1m Non-trainable params: \u001b[0m\u001b[38;5;34m0\u001b[0m (0.00 B)\n"
      ]
     },
     "metadata": {},
     "output_type": "display_data"
    },
    {
     "name": "stdout",
     "output_type": "stream",
     "text": [
      "Epoch 1/10\n",
      "\u001b[1m55/55\u001b[0m \u001b[32m━━━━━━━━━━━━━━━━━━━━\u001b[0m\u001b[37m\u001b[0m \u001b[1m108s\u001b[0m 2s/step - acc: 0.6078 - loss: 0.6844 - val_acc: 0.7537 - val_loss: 0.5749\n",
      "Epoch 2/10\n",
      "\u001b[1m55/55\u001b[0m \u001b[32m━━━━━━━━━━━━━━━━━━━━\u001b[0m\u001b[37m\u001b[0m \u001b[1m84s\u001b[0m 2s/step - acc: 0.8224 - loss: 0.4992 - val_acc: 0.8688 - val_loss: 0.4250\n",
      "Epoch 3/10\n",
      "\u001b[1m55/55\u001b[0m \u001b[32m━━━━━━━━━━━━━━━━━━━━\u001b[0m\u001b[37m\u001b[0m \u001b[1m83s\u001b[0m 2s/step - acc: 0.8866 - loss: 0.3879 - val_acc: 0.8786 - val_loss: 0.3810\n",
      "Epoch 4/10\n",
      "\u001b[1m55/55\u001b[0m \u001b[32m━━━━━━━━━━━━━━━━━━━━\u001b[0m\u001b[37m\u001b[0m \u001b[1m84s\u001b[0m 2s/step - acc: 0.9181 - loss: 0.3155 - val_acc: 0.8832 - val_loss: 0.3492\n",
      "Epoch 5/10\n",
      "\u001b[1m55/55\u001b[0m \u001b[32m━━━━━━━━━━━━━━━━━━━━\u001b[0m\u001b[37m\u001b[0m \u001b[1m85s\u001b[0m 2s/step - acc: 0.9283 - loss: 0.2926 - val_acc: 0.8803 - val_loss: 0.3602\n",
      "Epoch 6/10\n",
      "\u001b[1m55/55\u001b[0m \u001b[32m━━━━━━━━━━━━━━━━━━━━\u001b[0m\u001b[37m\u001b[0m \u001b[1m89s\u001b[0m 2s/step - acc: 0.9401 - loss: 0.2459 - val_acc: 0.8895 - val_loss: 0.3302\n",
      "Epoch 7/10\n",
      "\u001b[1m55/55\u001b[0m \u001b[32m━━━━━━━━━━━━━━━━━━━━\u001b[0m\u001b[37m\u001b[0m \u001b[1m87s\u001b[0m 2s/step - acc: 0.9431 - loss: 0.2056 - val_acc: 0.8414 - val_loss: 0.3848\n",
      "Epoch 8/10\n",
      "\u001b[1m55/55\u001b[0m \u001b[32m━━━━━━━━━━━━━━━━━━━━\u001b[0m\u001b[37m\u001b[0m \u001b[1m85s\u001b[0m 2s/step - acc: 0.9567 - loss: 0.1644 - val_acc: 0.8494 - val_loss: 0.3968\n",
      "Epoch 9/10\n",
      "\u001b[1m55/55\u001b[0m \u001b[32m━━━━━━━━━━━━━━━━━━━━\u001b[0m\u001b[37m\u001b[0m \u001b[1m85s\u001b[0m 2s/step - acc: 0.9682 - loss: 0.1278 - val_acc: 0.8597 - val_loss: 0.3961\n",
      "\n",
      "Pérdida en Test: 0.3591\n",
      "Precisión en Test: 0.8767\n"
     ]
    },
    {
     "data": {
      "image/png": "[encoded data removed]",
      "text/plain": [
       "<Figure size 1200x500 with 2 Axes>"
      ]
     },
     "metadata": {},
     "output_type": "display_data"
    }
   ],
   "source": [
    "import numpy as np\n",
    "import pandas as pd\n",
    "import matplotlib.pyplot as plt\n",
    "\n",
    "from tensorflow.keras.preprocessing.text import Tokenizer\n",
    "from keras.preprocessing.sequence import pad_sequences\n",
    "from keras.models import Sequential\n",
    "from keras.layers import Embedding, Dense, LSTM, Dropout, Bidirectional\n",
    "from keras.callbacks import EarlyStopping\n",
    "from sklearn.model_selection import train_test_split\n",
    "from sklearn.utils.class_weight import compute_class_weight\n",
    "\n",
    "\n",
    "\n",
    "# Preprocesamiento de texto\n",
    "texts = dataset['clean_description'].fillna(\"\").tolist()\n",
    "labels = dataset['label'].values\n",
    "\n",
    "# Tokenización y Padding\n",
    "max_features = 10000  # Número máximo de palabras a considerar\n",
    "tokenizer = Tokenizer(num_words=max_features)\n",
    "tokenizer.fit_on_texts(texts)\n",
    "sequences = tokenizer.texts_to_sequences(texts)\n",
    "maxlen = 500  # Longitud máxima de cada secuencia\n",
    "data = pad_sequences(sequences, maxlen=maxlen)\n",
    "print(\"Forma de las secuencias procesadas:\", data.shape)\n",
    "\n",
    "# Dividir entre entrenamiento y prueba, usando estratificación para mantener la proporción de clases\n",
    "X_train, X_test, y_train, y_test = train_test_split(\n",
    "    data, labels, test_size=0.5, random_state=42, stratify=labels\n",
    ")\n",
    "\n",
    "print(\"Tamaño del train:\", X_train.shape, \"Tamaño del test:\", X_test.shape)\n",
    "\n",
    "# Calcular pesos de clases en el conjunto de entrenamiento para contrarrestar el desbalanceo\n",
    "clases = np.unique(y_train)\n",
    "pesos = compute_class_weight(class_weight='balanced', classes=clases, y=y_train)\n",
    "class_weights = {i: peso for i, peso in zip(clases, pesos)}\n",
    "print(\"Pesos de clases:\", class_weights)\n",
    "\n",
    "# Definición del modelo\n",
    "model = Sequential()\n",
    "model.add(Embedding(max_features, 32, input_length=maxlen))\n",
    "model.add(Dropout(0.1))\n",
    "model.add(Bidirectional(LSTM(32, dropout=0.1, recurrent_dropout=0.1)))\n",
    "model.add(Dense(1, activation='sigmoid'))\n",
    "model.summary()\n",
    "\n",
    "# Compilar el modelo\n",
    "model.compile(optimizer='adam', loss='binary_crossentropy', metrics=['acc'])\n",
    "\n",
    "# Callback de EarlyStopping para detener el entrenamiento si no mejora\n",
    "early_stop = EarlyStopping(monitor='val_loss', patience=3, restore_best_weights=True)\n",
    "\n",
    "# Entrenar el modelo utilizando el conjunto de entrenamiento y evaluándolo con el de prueba\n",
    "history = model.fit(\n",
    "    X_train,\n",
    "    y_train,\n",
    "    epochs=10,\n",
    "    batch_size=128,\n",
    "    validation_split=0.2,\n",
    "    callbacks=[early_stop],\n",
    "    class_weight=class_weights\n",
    ")\n",
    "\n",
    "# Evaluar el modelo en el conjunto de prueba\n",
    "score = model.evaluate(X_test, y_test, verbose=0)\n",
    "print(f\"\\nPérdida en Test: {score[0]:.4f}\")\n",
    "print(f\"Precisión en Test: {score[1]:.4f}\")\n",
    "\n",
    "# Visualización de la precisión y pérdida durante el entrenamiento y validación\n",
    "acc = history.history['acc']\n",
    "val_acc = history.history['val_acc']\n",
    "loss = history.history['loss']\n",
    "val_loss = history.history['val_loss']\n",
    "epochs_range = range(len(acc))\n",
    " \n",
    "plt.figure(figsize=(12, 5))\n",
    "plt.subplot(1, 2, 1)\n",
    "plt.plot(epochs_range, acc, 'bo', label='Entrenamiento')\n",
    "plt.plot(epochs_range, val_acc, 'b', label='Validación')\n",
    "plt.title('Precisión Entrenamiento vs. Validación')\n",
    "plt.legend()\n",
    " \n",
    "plt.subplot(1, 2, 2)\n",
    "plt.plot(epochs_range, loss, 'bo', label='Entrenamiento')\n",
    "plt.plot(epochs_range, val_loss, 'b', label='Validación')\n",
    "plt.title('Pérdida Entrenamiento vs. Validación')\n",
    "plt.legend()\n",
    "\n",
    "plt.show()\n",
    "\n"
   ]
  },
  {
   "cell_type": "markdown",
   "id": "4870c17d",
   "metadata": {},
   "source": [
    "### 5.5.2. Bidirectional LSTM sin `train_test_split` (solo `validation_split`)\n",
    "\n",
    "#### Descripción:\n",
    "Este segundo modelo sigue una estructura similar al anterior, pero con una diferencia importante en la partición de datos:\n",
    "- **Preprocesamiento:**  \n",
    "  - Misma tokenización y padding que el modelo 1.\n",
    "  - **No se realiza `train_test_split`**, se usa el dataset completo y se separa únicamente usando `validation_split=0.2` durante el entrenamiento.\n",
    "- **Modelo:**  \n",
    "  - Capa de Embedding de 32 dimensiones.\n",
    "  - Capa Bidirectional LSTM con 32 unidades, con `dropout=0.1` y `recurrent_dropout=0.1`.\n",
    "  - Capa de salida con activación sigmoide.\n",
    "- **Entrenamiento:**  \n",
    "  - Aplicación de pesos de clase para combatir el desbalanceo.\n",
    "  - EarlyStopping con paciencia de 3.\n",
    "  - Batch size de 128, hasta 10 épocas.\n",
    "\n",
    "#### Por qué no se selecciona:\n",
    "- **Problemas con la validación interna:**  \n",
    "  Al no separar explícitamente un conjunto de test, no podemos estar seguros de que los resultados del modelo sean generalizables.\n",
    "- **Validación inflada:**  \n",
    "  Los buenos resultados de validación pueden estar inflados por la falta de un set de prueba verdaderamente independiente.\n",
    "- **Persistencia del overfitting:**  \n",
    "  Aunque mejora ligeramente respecto al modelo 1, sigue habiendo diferencias notables entre entrenamiento y validación.\n",
    "- **Coste de entrenamiento no justificado:**  \n",
    "  El tiempo de cómputo que requiere no se traduce en una mejora clara del rendimiento.\n",
    "\n",
    "---\n",
    "\n"
   ]
  },
  {
   "cell_type": "code",
   "execution_count": null,
   "id": "c7275b77",
   "metadata": {},
   "outputs": [
    {
     "name": "stdout",
     "output_type": "stream",
     "text": [
      "Pesos de clases: {0: 1.8213316635357963, 1: 0.6892030645288681}\n"
     ]
    }
   ],
   "source": [
    "from sklearn.utils.class_weight import compute_class_weight\n",
    "import numpy as np\n",
    "\n",
    "# Asumiendo que 'labels' es un array de 0s y 1s\n",
    "clases = np.unique(labels)\n",
    "pesos = compute_class_weight(class_weight='balanced', classes=clases, y=labels)\n",
    "class_weights = {i: peso for i, peso in zip(clases, pesos)}\n",
    "print(\"Pesos de clases:\", class_weights)"
   ]
  },
  {
   "cell_type": "code",
   "execution_count": null,
   "id": "a723bfa9",
   "metadata": {},
   "outputs": [
    {
     "name": "stdout",
     "output_type": "stream",
     "text": [
      "                                               genre  label\n",
      "0  Autobiography,Memoir,Nonfiction,World War II,H...      0\n",
      "1  Fiction,Writing,Books About Books,Classics,Hum...      1\n",
      "2  Economics,Economics,Finance,Business,Nonfictio...      0\n",
      "3  Science Fiction,Fiction,Games,Video Games,Spor...      1\n",
      "4  Psychology,Nonfiction,Self Help,Science,Self H...      0\n",
      "Forma de las secuencias procesadas: (17452, 500)\n"
     ]
    },
    {
     "name": "stderr",
     "output_type": "stream",
     "text": [
      "c:\\Users\\ruben\\anaconda3\\envs\\MLMBD\\Lib\\site-packages\\keras\\src\\layers\\core\\embedding.py:90: UserWarning: Argument `input_length` is deprecated. Just remove it.\n",
      "  warnings.warn(\n"
     ]
    },
    {
     "data": {
      "text/html": [
       "<pre style=\"white-space:pre;overflow-x:auto;line-height:normal;font-family:Menlo,'DejaVu Sans Mono',consolas,'Courier New',monospace\"><span style=\"font-weight: bold\">Model: \"sequential_2\"</span>\n",
       "</pre>\n"
      ],
      "text/plain": [
       "\u001b[1mModel: \"sequential_2\"\u001b[0m\n"
      ]
     },
     "metadata": {},
     "output_type": "display_data"
    },
    {
     "data": {
      "text/html": [
       "<pre style=\"white-space:pre;overflow-x:auto;line-height:normal;font-family:Menlo,'DejaVu Sans Mono',consolas,'Courier New',monospace\">┏━━━━━━━━━━━━━━━━━━━━━━━━━━━━━━━━━┳━━━━━━━━━━━━━━━━━━━━━━━━┳━━━━━━━━━━━━━━━┓\n",
       "┃<span style=\"font-weight: bold\"> Layer (type)                    </span>┃<span style=\"font-weight: bold\"> Output Shape           </span>┃<span style=\"font-weight: bold\">       Param # </span>┃\n",
       "┡━━━━━━━━━━━━━━━━━━━━━━━━━━━━━━━━━╇━━━━━━━━━━━━━━━━━━━━━━━━╇━━━━━━━━━━━━━━━┩\n",
       "│ embedding_2 (<span style=\"color: #0087ff; text-decoration-color: #0087ff\">Embedding</span>)         │ ?                      │   <span style=\"color: #00af00; text-decoration-color: #00af00\">0</span> (unbuilt) │\n",
       "├─────────────────────────────────┼────────────────────────┼───────────────┤\n",
       "│ dropout_2 (<span style=\"color: #0087ff; text-decoration-color: #0087ff\">Dropout</span>)             │ ?                      │             <span style=\"color: #00af00; text-decoration-color: #00af00\">0</span> │\n",
       "├─────────────────────────────────┼────────────────────────┼───────────────┤\n",
       "│ bidirectional_1 (<span style=\"color: #0087ff; text-decoration-color: #0087ff\">Bidirectional</span>) │ ?                      │   <span style=\"color: #00af00; text-decoration-color: #00af00\">0</span> (unbuilt) │\n",
       "├─────────────────────────────────┼────────────────────────┼───────────────┤\n",
       "│ dense_1 (<span style=\"color: #0087ff; text-decoration-color: #0087ff\">Dense</span>)                 │ ?                      │   <span style=\"color: #00af00; text-decoration-color: #00af00\">0</span> (unbuilt) │\n",
       "└─────────────────────────────────┴────────────────────────┴───────────────┘\n",
       "</pre>\n"
      ],
      "text/plain": [
       "┏━━━━━━━━━━━━━━━━━━━━━━━━━━━━━━━━━┳━━━━━━━━━━━━━━━━━━━━━━━━┳━━━━━━━━━━━━━━━┓\n",
       "┃\u001b[1m \u001b[0m\u001b[1mLayer (type)                   \u001b[0m\u001b[1m \u001b[0m┃\u001b[1m \u001b[0m\u001b[1mOutput Shape          \u001b[0m\u001b[1m \u001b[0m┃\u001b[1m \u001b[0m\u001b[1m      Param #\u001b[0m\u001b[1m \u001b[0m┃\n",
       "┡━━━━━━━━━━━━━━━━━━━━━━━━━━━━━━━━━╇━━━━━━━━━━━━━━━━━━━━━━━━╇━━━━━━━━━━━━━━━┩\n",
       "│ embedding_2 (\u001b[38;5;33mEmbedding\u001b[0m)         │ ?                      │   \u001b[38;5;34m0\u001b[0m (unbuilt) │\n",
       "├─────────────────────────────────┼────────────────────────┼───────────────┤\n",
       "│ dropout_2 (\u001b[38;5;33mDropout\u001b[0m)             │ ?                      │             \u001b[38;5;34m0\u001b[0m │\n",
       "├─────────────────────────────────┼────────────────────────┼───────────────┤\n",
       "│ bidirectional_1 (\u001b[38;5;33mBidirectional\u001b[0m) │ ?                      │   \u001b[38;5;34m0\u001b[0m (unbuilt) │\n",
       "├─────────────────────────────────┼────────────────────────┼───────────────┤\n",
       "│ dense_1 (\u001b[38;5;33mDense\u001b[0m)                 │ ?                      │   \u001b[38;5;34m0\u001b[0m (unbuilt) │\n",
       "└─────────────────────────────────┴────────────────────────┴───────────────┘\n"
      ]
     },
     "metadata": {},
     "output_type": "display_data"
    },
    {
     "data": {
      "text/html": [
       "<pre style=\"white-space:pre;overflow-x:auto;line-height:normal;font-family:Menlo,'DejaVu Sans Mono',consolas,'Courier New',monospace\"><span style=\"font-weight: bold\"> Total params: </span><span style=\"color: #00af00; text-decoration-color: #00af00\">0</span> (0.00 B)\n",
       "</pre>\n"
      ],
      "text/plain": [
       "\u001b[1m Total params: \u001b[0m\u001b[38;5;34m0\u001b[0m (0.00 B)\n"
      ]
     },
     "metadata": {},
     "output_type": "display_data"
    },
    {
     "data": {
      "text/html": [
       "<pre style=\"white-space:pre;overflow-x:auto;line-height:normal;font-family:Menlo,'DejaVu Sans Mono',consolas,'Courier New',monospace\"><span style=\"font-weight: bold\"> Trainable params: </span><span style=\"color: #00af00; text-decoration-color: #00af00\">0</span> (0.00 B)\n",
       "</pre>\n"
      ],
      "text/plain": [
       "\u001b[1m Trainable params: \u001b[0m\u001b[38;5;34m0\u001b[0m (0.00 B)\n"
      ]
     },
     "metadata": {},
     "output_type": "display_data"
    },
    {
     "data": {
      "text/html": [
       "<pre style=\"white-space:pre;overflow-x:auto;line-height:normal;font-family:Menlo,'DejaVu Sans Mono',consolas,'Courier New',monospace\"><span style=\"font-weight: bold\"> Non-trainable params: </span><span style=\"color: #00af00; text-decoration-color: #00af00\">0</span> (0.00 B)\n",
       "</pre>\n"
      ],
      "text/plain": [
       "\u001b[1m Non-trainable params: \u001b[0m\u001b[38;5;34m0\u001b[0m (0.00 B)\n"
      ]
     },
     "metadata": {},
     "output_type": "display_data"
    },
    {
     "name": "stdout",
     "output_type": "stream",
     "text": [
      "Epoch 1/10\n",
      "\u001b[1m110/110\u001b[0m \u001b[32m━━━━━━━━━━━━━━━━━━━━\u001b[0m\u001b[37m\u001b[0m \u001b[1m178s\u001b[0m 2s/step - acc: 0.4904 - loss: 0.6487 - val_acc: 0.8273 - val_loss: 0.4632\n",
      "Epoch 2/10\n",
      "\u001b[1m110/110\u001b[0m \u001b[32m━━━━━━━━━━━━━━━━━━━━\u001b[0m\u001b[37m\u001b[0m \u001b[1m167s\u001b[0m 2s/step - acc: 0.8668 - loss: 0.4206 - val_acc: 0.9043 - val_loss: 0.3269\n",
      "Epoch 3/10\n",
      "\u001b[1m110/110\u001b[0m \u001b[32m━━━━━━━━━━━━━━━━━━━━\u001b[0m\u001b[37m\u001b[0m \u001b[1m177s\u001b[0m 2s/step - acc: 0.8965 - loss: 0.3580 - val_acc: 0.8725 - val_loss: 0.3774\n",
      "Epoch 4/10\n",
      "\u001b[1m110/110\u001b[0m \u001b[32m━━━━━━━━━━━━━━━━━━━━\u001b[0m\u001b[37m\u001b[0m \u001b[1m185s\u001b[0m 2s/step - acc: 0.8965 - loss: 0.3367 - val_acc: 0.8479 - val_loss: 0.3828\n",
      "Epoch 5/10\n",
      "\u001b[1m110/110\u001b[0m \u001b[32m━━━━━━━━━━━━━━━━━━━━\u001b[0m\u001b[37m\u001b[0m \u001b[1m188s\u001b[0m 2s/step - acc: 0.9029 - loss: 0.3084 - val_acc: 0.8642 - val_loss: 0.3858\n"
     ]
    },
    {
     "data": {
      "image/png": "[encoded data removed]",
      "text/plain": [
       "<Figure size 640x480 with 1 Axes>"
      ]
     },
     "metadata": {},
     "output_type": "display_data"
    },
    {
     "data": {
      "image/png": "[encoded data removed]",
      "text/plain": [
       "<Figure size 640x480 with 1 Axes>"
      ]
     },
     "metadata": {},
     "output_type": "display_data"
    }
   ],
   "source": [
    "import numpy as np\n",
    "import pandas as pd\n",
    "import matplotlib.pyplot as plt\n",
    "\n",
    "from tensorflow.keras.preprocessing.text import Tokenizer\n",
    "from keras.preprocessing.sequence import pad_sequences\n",
    "from keras.models import Sequential\n",
    "from keras.layers import Embedding, Dense, LSTM, Dropout, Bidirectional\n",
    "from keras.callbacks import EarlyStopping\n",
    "\n",
    "print(dataset[['genre', 'label']].head())\n",
    " \n",
    "# Usamos la columna 'desc' como entrada y las etiquetas generadas como salida\n",
    "\n",
    "texts = dataset['clean_description'].fillna(\"\").tolist()\n",
    "\n",
    "labels = dataset['label'].values\n",
    " \n",
    "# Tokenización y Padding\n",
    "\n",
    "max_features = 10000  # Número máximo de palabras a considerar\n",
    "\n",
    "tokenizer = Tokenizer(num_words=max_features)\n",
    "\n",
    "tokenizer.fit_on_texts(texts)\n",
    "\n",
    "sequences = tokenizer.texts_to_sequences(texts)\n",
    " \n",
    "maxlen = 500  # Longitud máxima de cada secuencia\n",
    "\n",
    "data = pad_sequences(sequences, maxlen=maxlen)\n",
    "\n",
    "print(\"Forma de las secuencias procesadas:\", data.shape)\n",
    " \n",
    "# Definición del modelo RNN para clasificación (ficción vs. no ficción) con mejoras para evitar overfitting\n",
    "\n",
    "model = Sequential()\n",
    "\n",
    "model.add(Embedding(max_features, 32, input_length=maxlen))\n",
    "\n",
    "model.add(Dropout(0.1))  # Dropout tras la capa de Embedding para regularización\n",
    "\n",
    "# Se reduce el número de neuronas a 16 e incorporamos dropout en la capa RNN\n",
    "\n",
    "# model.add(SimpleRNN(16, dropout=0.1, recurrent_dropout=0.1))\n",
    "\n",
    "model.add(Bidirectional(LSTM(32, dropout=0.1, recurrent_dropout=0.1)))\n",
    "\n",
    "model.add(Dense(1, activation='sigmoid'))\n",
    "\n",
    "model.summary()\n",
    " \n",
    "# Compilamos el modelo con optimizador, función de pérdida y métrica de precisión\n",
    "\n",
    "model.compile(optimizer='adam', loss='binary_crossentropy', metrics=['acc'])\n",
    " \n",
    "# Callback EarlyStopping para detener el entrenamiento si no mejora la validación\n",
    "\n",
    "early_stop = EarlyStopping(monitor='val_loss', patience=3, restore_best_weights=True)\n",
    " \n",
    "# Entrenamiento del modelo\n",
    "\n",
    "history = model.fit(data, labels, epochs=10, batch_size=128, validation_split=0.2, callbacks=[early_stop],class_weight=class_weights)\n",
    " \n",
    "# Visualización de la precisión y pérdida durante el entrenamiento\n",
    "\n",
    "acc = history.history['acc']\n",
    "\n",
    "val_acc = history.history['val_acc']\n",
    "\n",
    "loss = history.history['loss']\n",
    "\n",
    "val_loss = history.history['val_loss']\n",
    "\n",
    "epochs_range = range(len(acc))\n",
    " \n",
    "plt.figure()\n",
    "\n",
    "plt.plot(epochs_range, acc, 'bo', label='Training acc')\n",
    "\n",
    "plt.plot(epochs_range, val_acc, 'b', label='Validation acc')\n",
    "\n",
    "plt.title('Training and Validation Accuracy')\n",
    "\n",
    "plt.legend()\n",
    " \n",
    "plt.figure()\n",
    "\n",
    "plt.plot(epochs_range, loss, 'bo', label='Training loss')\n",
    "\n",
    "plt.plot(epochs_range, val_loss, 'b', label='Validation loss')\n",
    "\n",
    "plt.title('Training and Validation Loss')\n",
    "\n",
    "plt.legend()\n",
    " \n",
    "plt.show()\n",
    "\n",
    " "
   ]
  },
  {
   "cell_type": "markdown",
   "id": "682ce625",
   "metadata": {},
   "source": [
    "---\n",
    "## 5.6. Conclusión general\n",
    "\n",
    "Ambos modelos descartados comparten una arquitectura robusta, pero no logran superar las limitaciones observadas durante las pruebas:\n",
    "\n",
    "- **Overfitting en ambos modelos**, visible en las curvas de entrenamiento.\n",
    "- **Rendimiento moderado**, sin mejoras notables respecto a modelos base.\n",
    "- **Problemas con la generalización**:  \n",
    "  Especialmente el segundo modelo, que carece de un conjunto de test externo.\n",
    "- **Clase minoritaria mal representada**, a pesar del uso de `class_weight`.\n",
    "- **Coste computacional elevado** comparado con los resultados obtenidos.\n",
    "\n",
    "> Por estas razones, estos modelos se han descartado en favor de alternativas más eficientes y con mejor capacidad de generalización.\n"
   ]
  },
  {
   "cell_type": "markdown",
   "id": "c595bd51",
   "metadata": {},
   "source": []
  }
 ],
 "metadata": {
  "kernelspec": {
   "display_name": "MLMBD",
   "language": "python",
   "name": "python3"
  },
  "language_info": {
   "codemirror_mode": {
    "name": "ipython",
    "version": 3
   },
   "file_extension": ".py",
   "mimetype": "text/x-python",
   "name": "python",
   "nbconvert_exporter": "python",
   "pygments_lexer": "ipython3",
   "version": "3.11.9"
  }
 },
 "nbformat": 4,
 "nbformat_minor": 5
}
